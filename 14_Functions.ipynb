{
 "cells": [
  {
   "cell_type": "markdown",
   "id": "986d517b",
   "metadata": {},
   "source": [
    "### What is a Function\n",
    "\n",
    "- A function is a block of code that only runs when it's called.\n",
    "- You can pass data (called parameters) into a function.\n",
    "- The function can return data as a result.\n",
    "\n",
    "#### Importance\n",
    "Enable us to resuse the code and make it more modular, important for complex data analysis and plotting routines.\n",
    "\n"
   ]
  },
  {
   "cell_type": "markdown",
   "id": "e844d8f5",
   "metadata": {},
   "source": [
    "#### Types of Functions\n",
    "\n",
    "| Type of Function             | Example Function              | Section            |\n",
    "|------------------------------|-------------------------------|--------------------|\n",
    "| Built-In functions           | `max()`                       | 1. Getting Started |\n",
    "| User-defined functions       | `def my_function(): pass`     | 16. Functions      |\n",
    "| Lambda functions             | `lambda x: x + 1`             | 17. Lambda         |\n",
    "| Standard Library functions   | `math.sqrt()`                 | 18. Modules        |\n",
    "| Third-Party Library Functions| `numpy.array()`               | 19. Library        |\n",
    "\n",
    "Note: We won't be covering Generator, Asynchronous, or Recursive Functions as they are out of scope of Data Analytics."
   ]
  },
  {
   "cell_type": "markdown",
   "id": "943bcd23",
   "metadata": {},
   "source": [
    "#### Built-in Functions\n",
    "\n",
    "Standard within python. We've already used a few:\n",
    "\n",
    "* `print()`: Displays output\n",
    "* `type()`: Checks the data type of objects\n",
    "* `range()`: Generates a sequence of numbers, useful in loops\n",
    "* `len()`: Counts the number of elements in a data structure\n",
    "\n",
    "[Here are all the built-in functions in Python](https://docs.python.org/3/library/functions.html)."
   ]
  },
  {
   "cell_type": "code",
   "execution_count": 1,
   "id": "80d0e53c",
   "metadata": {},
   "outputs": [
    {
     "name": "stdout",
     "output_type": "stream",
     "text": [
      "['Python', 'SQL', 'Excel']\n"
     ]
    }
   ],
   "source": [
    "skill_list = ['Python', 'SQL', 'Excel']\n",
    "print(skill_list)"
   ]
  },
  {
   "cell_type": "code",
   "execution_count": 2,
   "id": "cfdffd75",
   "metadata": {},
   "outputs": [
    {
     "data": {
      "text/plain": [
       "list"
      ]
     },
     "execution_count": 2,
     "metadata": {},
     "output_type": "execute_result"
    }
   ],
   "source": [
    "type(skill_list)"
   ]
  },
  {
   "cell_type": "code",
   "execution_count": 3,
   "id": "50e47f51",
   "metadata": {},
   "outputs": [
    {
     "data": {
      "text/plain": [
       "3"
      ]
     },
     "execution_count": 3,
     "metadata": {},
     "output_type": "execute_result"
    }
   ],
   "source": [
    "len(skill_list)"
   ]
  },
  {
   "cell_type": "code",
   "execution_count": 4,
   "id": "159fc62e",
   "metadata": {},
   "outputs": [
    {
     "data": {
      "text/plain": [
       "range(0, 5)"
      ]
     },
     "execution_count": 4,
     "metadata": {},
     "output_type": "execute_result"
    }
   ],
   "source": [
    "range(0,5)"
   ]
  },
  {
   "cell_type": "code",
   "execution_count": 5,
   "id": "ecb8d777",
   "metadata": {},
   "outputs": [],
   "source": [
    "data_salaries = [95000, 100000, 85000, 97000, 140000]"
   ]
  },
  {
   "cell_type": "code",
   "execution_count": 6,
   "id": "f2571855",
   "metadata": {},
   "outputs": [
    {
     "data": {
      "text/plain": [
       "85000"
      ]
     },
     "execution_count": 6,
     "metadata": {},
     "output_type": "execute_result"
    }
   ],
   "source": [
    "min(data_salaries)"
   ]
  },
  {
   "cell_type": "code",
   "execution_count": 7,
   "id": "14d2093e",
   "metadata": {},
   "outputs": [
    {
     "data": {
      "text/plain": [
       "140000"
      ]
     },
     "execution_count": 7,
     "metadata": {},
     "output_type": "execute_result"
    }
   ],
   "source": [
    "max(data_salaries)"
   ]
  },
  {
   "cell_type": "code",
   "execution_count": 8,
   "id": "fd69ce44",
   "metadata": {},
   "outputs": [
    {
     "data": {
      "text/plain": [
       "517000"
      ]
     },
     "execution_count": 8,
     "metadata": {},
     "output_type": "execute_result"
    }
   ],
   "source": [
    "sum(data_salaries)"
   ]
  },
  {
   "cell_type": "code",
   "execution_count": 9,
   "id": "de575330",
   "metadata": {},
   "outputs": [
    {
     "data": {
      "text/plain": [
       "[85000, 95000, 97000, 100000, 140000]"
      ]
     },
     "execution_count": 9,
     "metadata": {},
     "output_type": "execute_result"
    }
   ],
   "source": [
    "sorted(data_salaries)"
   ]
  },
  {
   "cell_type": "markdown",
   "id": "5cf911cc",
   "metadata": {},
   "source": [
    "## User-Defined Functions\n",
    "\n",
    "These are created by the user with your name and syntax of choice: `calculate_something_special()`.\n",
    "\n",
    "#### WARNING \n",
    "Do not name your function the same as standard Python objects.\n",
    "\n",
    "For example, this is a bad idea:\n",
    "\n",
    "```python\n",
    "def print(input):\n",
    "    return \"Hello\" + input\n",
    "```\n",
    "\n",
    "In this case the built-in `print()` function would be overridden."
   ]
  },
  {
   "cell_type": "code",
   "execution_count": 10,
   "id": "438daacc",
   "metadata": {},
   "outputs": [
    {
     "data": {
      "text/plain": [
       "110000.00000000001"
      ]
     },
     "execution_count": 10,
     "metadata": {},
     "output_type": "execute_result"
    }
   ],
   "source": [
    "base_salary = 100000\n",
    "bonus_rate = 0.1\n",
    "\n",
    "total_salary = base_salary * (1 + bonus_rate)\n",
    "\n",
    "total_salary"
   ]
  },
  {
   "cell_type": "code",
   "execution_count": 12,
   "id": "e393c0a5",
   "metadata": {},
   "outputs": [],
   "source": [
    "def calculate_salary():\n",
    "    base_salary = 100000\n",
    "    bonus_rate = 0.1\n",
    "\n",
    "    total_salary = base_salary * (1 + bonus_rate)\n",
    "    \n",
    "    return total_salary"
   ]
  },
  {
   "cell_type": "code",
   "execution_count": 13,
   "id": "d56304dc",
   "metadata": {},
   "outputs": [
    {
     "data": {
      "text/plain": [
       "110000.00000000001"
      ]
     },
     "execution_count": 13,
     "metadata": {},
     "output_type": "execute_result"
    }
   ],
   "source": [
    "calculate_salary()"
   ]
  },
  {
   "cell_type": "code",
   "execution_count": 18,
   "id": "d06727f2",
   "metadata": {},
   "outputs": [],
   "source": [
    "# define the arguments inside the function\n",
    "def calculate_salary(base_salary, bonus_rate):\n",
    "\n",
    "    total_salary = base_salary * (1 + bonus_rate)\n",
    "    \n",
    "    return total_salary\n"
   ]
  },
  {
   "cell_type": "code",
   "execution_count": 19,
   "id": "d7e1d6e5",
   "metadata": {},
   "outputs": [
    {
     "data": {
      "text/plain": [
       "132000.0"
      ]
     },
     "execution_count": 19,
     "metadata": {},
     "output_type": "execute_result"
    }
   ],
   "source": [
    "calculate_salary(110000, 0.2)"
   ]
  },
  {
   "cell_type": "code",
   "execution_count": 20,
   "id": "e7a7277e",
   "metadata": {},
   "outputs": [],
   "source": [
    "#we can add an optional argument (eg: if we have a standard bonus rate)\n",
    "def calculate_salary(base_salary, bonus_rate=.1):\n",
    "\n",
    "    total_salary = base_salary * (1 + bonus_rate)\n",
    "    \n",
    "    return total_salary\n"
   ]
  },
  {
   "cell_type": "code",
   "execution_count": 21,
   "id": "52235c1d",
   "metadata": {},
   "outputs": [
    {
     "data": {
      "text/plain": [
       "110000.00000000001"
      ]
     },
     "execution_count": 21,
     "metadata": {},
     "output_type": "execute_result"
    }
   ],
   "source": [
    "calculate_salary(100000)"
   ]
  },
  {
   "cell_type": "code",
   "execution_count": null,
   "id": "858ff117",
   "metadata": {},
   "outputs": [
    {
     "data": {
      "text/plain": [
       "120000.0"
      ]
     },
     "execution_count": 22,
     "metadata": {},
     "output_type": "execute_result"
    }
   ],
   "source": [
    "#can be overwritten\n",
    "calculate_salary(100000, 0.2)"
   ]
  },
  {
   "cell_type": "markdown",
   "id": "1eb298b6",
   "metadata": {},
   "source": [
    "### Practice"
   ]
  },
  {
   "cell_type": "markdown",
   "id": "e8f12cde",
   "metadata": {},
   "source": [
    "Create a function job_title_contains that takes a job title and a keyword as arguments, and returns True if the job title contains the keyword, otherwise returns False. \n",
    "\n",
    "To confirm the function works, set the job_title to 'Data Scientist' and the keyword to 'Data'."
   ]
  },
  {
   "cell_type": "code",
   "execution_count": 27,
   "id": "7aa3f51e",
   "metadata": {},
   "outputs": [],
   "source": [
    "job_title = 'Data Scientist'\n",
    "keyword = 'Data'\n",
    "\n",
    "def job_title_contains(job_title, keyword):\n",
    "    if keyword in job_title:\n",
    "        return True\n",
    "    else:\n",
    "        return False"
   ]
  },
  {
   "cell_type": "code",
   "execution_count": 24,
   "id": "95b10667",
   "metadata": {},
   "outputs": [
    {
     "data": {
      "text/plain": [
       "True"
      ]
     },
     "execution_count": 24,
     "metadata": {},
     "output_type": "execute_result"
    }
   ],
   "source": [
    "job_title_contains(job_title, keyword)"
   ]
  },
  {
   "cell_type": "code",
   "execution_count": 25,
   "id": "cdfc39a3",
   "metadata": {},
   "outputs": [
    {
     "data": {
      "text/plain": [
       "True"
      ]
     },
     "execution_count": 25,
     "metadata": {},
     "output_type": "execute_result"
    }
   ],
   "source": [
    "job_title_contains('Data Analyst', 'Analyst')"
   ]
  },
  {
   "cell_type": "code",
   "execution_count": 28,
   "id": "07458290",
   "metadata": {},
   "outputs": [
    {
     "data": {
      "text/plain": [
       "False"
      ]
     },
     "execution_count": 28,
     "metadata": {},
     "output_type": "execute_result"
    }
   ],
   "source": [
    "job_title_contains('Data Analyts', 'Engineer')"
   ]
  },
  {
   "cell_type": "code",
   "execution_count": 29,
   "id": "fa110e93",
   "metadata": {},
   "outputs": [],
   "source": [
    "# simpler way\n",
    "def job_title_contains(job_title, keyword):\n",
    "    return keyword in job_title\n"
   ]
  },
  {
   "cell_type": "code",
   "execution_count": 30,
   "id": "73d59f99",
   "metadata": {},
   "outputs": [
    {
     "data": {
      "text/plain": [
       "True"
      ]
     },
     "execution_count": 30,
     "metadata": {},
     "output_type": "execute_result"
    }
   ],
   "source": [
    "job_title_contains(job_title, keyword)"
   ]
  },
  {
   "cell_type": "code",
   "execution_count": 31,
   "id": "0bdea61e",
   "metadata": {},
   "outputs": [
    {
     "data": {
      "text/plain": [
       "False"
      ]
     },
     "execution_count": 31,
     "metadata": {},
     "output_type": "execute_result"
    }
   ],
   "source": [
    "job_title_contains('Data Analyst', 'Engineer')"
   ]
  },
  {
   "cell_type": "markdown",
   "id": "0fe86170",
   "metadata": {},
   "source": [
    "Create a function average_salary that takes a list of salaries and returns the average salary. With the salaries set as [95000, 120000, 105000, 90000, 130000]."
   ]
  },
  {
   "cell_type": "code",
   "execution_count": 32,
   "id": "f0dfa258",
   "metadata": {},
   "outputs": [],
   "source": [
    "salaries = [95000, 120000, 105000, 90000, 130000]\n",
    "\n",
    "def average_salary(salaries):\n",
    "    return sum(salaries)/len(salaries)\n"
   ]
  },
  {
   "cell_type": "code",
   "execution_count": 33,
   "id": "03503237",
   "metadata": {},
   "outputs": [
    {
     "data": {
      "text/plain": [
       "108000.0"
      ]
     },
     "execution_count": 33,
     "metadata": {},
     "output_type": "execute_result"
    }
   ],
   "source": [
    "average_salary(salaries)"
   ]
  },
  {
   "cell_type": "markdown",
   "id": "0d455e5e",
   "metadata": {},
   "source": [
    "Create a function salary_statistics that takes a list of salaries and returns a dictionary with the minimum, maximum, and average salary. The list of salaries is set to [95000, 120000, 105000, 90000, 130000]."
   ]
  },
  {
   "cell_type": "code",
   "execution_count": 34,
   "id": "8a3a64d0",
   "metadata": {},
   "outputs": [],
   "source": [
    "def salary_statistics(salaries):\n",
    "    #Return a dictionary of statistics\n",
    "    statistics = {'minimum':min(salaries), 'maximum':max(salaries), 'average':sum(salaries)/len(salaries) }\n",
    "    return statistics"
   ]
  },
  {
   "cell_type": "code",
   "execution_count": 35,
   "id": "9c0d4d3e",
   "metadata": {},
   "outputs": [
    {
     "data": {
      "text/plain": [
       "{'minimum': 90000, 'maximum': 130000, 'average': 108000.0}"
      ]
     },
     "execution_count": 35,
     "metadata": {},
     "output_type": "execute_result"
    }
   ],
   "source": [
    "salaries = [95000, 120000, 105000, 90000, 130000]\n",
    "salary_statistics(salaries)"
   ]
  },
  {
   "cell_type": "code",
   "execution_count": 36,
   "id": "ba391586",
   "metadata": {},
   "outputs": [],
   "source": [
    "# Different way\n",
    "\n",
    "def salary_statistics(salaries):\n",
    "    return {\n",
    "        'min': min(salaries),\n",
    "        'max': max(salaries),\n",
    "        'average': sum(salaries) / len(salaries)\n",
    "    }"
   ]
  },
  {
   "cell_type": "markdown",
   "id": "a5605d67",
   "metadata": {},
   "source": [
    "Create a function job_posting_summary that takes a list of job postings, where each posting is a dictionary with keys 'title', 'location', and 'salary', and returns a summary dictionary with the total number of postings, the average salary, and a list of unique locations. The job_postings is set to [{'title': 'Data Scientist', 'location': 'New York', 'salary': 95000}, {'title': 'Data Analyst', 'location': 'San Francisco', 'salary': 85000}, {'title': 'Machine Learning Engineer', 'location': 'New York', 'salary': 115000}]."
   ]
  },
  {
   "cell_type": "code",
   "execution_count": 41,
   "id": "c0f61384",
   "metadata": {},
   "outputs": [
    {
     "data": {
      "text/plain": [
       "{'total_postings': 3,\n",
       " 'average_salary': 98333.33333333333,\n",
       " 'unique_locations': {'New York', 'San Francisco'}}"
      ]
     },
     "execution_count": 41,
     "metadata": {},
     "output_type": "execute_result"
    }
   ],
   "source": [
    "job_postings = [\n",
    "    {'title': 'Data Scientist', 'location': 'New York', 'salary': 95000},\n",
    "    {'title': 'Data Analyst', 'location': 'San Francisco', 'salary': 85000},\n",
    "    {'title': 'Machine Learning Engineer', 'location': 'New York', 'salary': 115000}\n",
    "]\n",
    "\n",
    "# what we need to get: {total_postings: x, average_salary: y, unique_locations: z}\n",
    "\n",
    "def job_posting_summary(job_postings):\n",
    "    total_postings = len(job_postings)\n",
    "    average_salary = sum(posting['salary'] for posting in job_postings) / len(job_postings)\n",
    "    unique_locations = set(posting['location'] for posting in job_postings)\n",
    "    return {\n",
    "        'total_postings': total_postings,\n",
    "        'average_salary': average_salary,\n",
    "        'unique_locations': unique_locations\n",
    "    }\n",
    "\n",
    "job_posting_summary(job_postings)\n",
    "\n"
   ]
  },
  {
   "cell_type": "code",
   "execution_count": 42,
   "id": "6278c4df",
   "metadata": {},
   "outputs": [
    {
     "data": {
      "text/plain": [
       "{'total_postings': 3,\n",
       " 'average_salary': 98333.33333333333,\n",
       " 'unique_locations': ['San Francisco', 'New York']}"
      ]
     },
     "execution_count": 42,
     "metadata": {},
     "output_type": "execute_result"
    }
   ],
   "source": [
    "# other way, very similar\n",
    "def job_posting_summary(job_postings):\n",
    "    total_postings = len(job_postings)\n",
    "    total_salary = sum(posting['salary'] for posting in job_postings)\n",
    "    average_salary = total_salary / total_postings\n",
    "    unique_locations = list(set(posting['location'] for posting in job_postings))\n",
    "    return {\n",
    "        'total_postings': total_postings,\n",
    "        'average_salary': average_salary,\n",
    "        'unique_locations': unique_locations\n",
    "    }\n",
    "\n",
    "job_postings = [\n",
    "    {'title': 'Data Scientist', 'location': 'New York', 'salary': 95000},\n",
    "    {'title': 'Data Analyst', 'location': 'San Francisco', 'salary': 85000},\n",
    "    {'title': 'Machine Learning Engineer', 'location': 'New York', 'salary': 115000}\n",
    "]\n",
    "job_posting_summary(job_postings)"
   ]
  },
  {
   "cell_type": "code",
   "execution_count": null,
   "id": "384b3556",
   "metadata": {},
   "outputs": [],
   "source": []
  }
 ],
 "metadata": {
  "kernelspec": {
   "display_name": "base",
   "language": "python",
   "name": "python3"
  },
  "language_info": {
   "codemirror_mode": {
    "name": "ipython",
    "version": 3
   },
   "file_extension": ".py",
   "mimetype": "text/x-python",
   "name": "python",
   "nbconvert_exporter": "python",
   "pygments_lexer": "ipython3",
   "version": "3.11.3"
  }
 },
 "nbformat": 4,
 "nbformat_minor": 5
}
