{
 "cells": [
  {
   "cell_type": "markdown",
   "id": "fa8e1611",
   "metadata": {},
   "source": [
    "## NumPy"
   ]
  },
  {
   "cell_type": "markdown",
   "id": "b9c455c2",
   "metadata": {},
   "source": [
    "\n",
    "\n",
    "* NumPy, which stands for Numerical Python, is foundational for numerical computing in Python.\n",
    "* Designed for scientific computation and is used extensively for data analysis because of its ability to handle large, multi-dimensional arrays and matrices efficiently. \n",
    "* Serves as the basis for many other Python data science libraries, including Pandas, due to its speed and efficiency in numerical computations.\n",
    "* A few special use cases for NumPy specifically for data analysis: \n",
    "    * Array operations\n",
    "    * Linear algebra\n",
    "    * Statistical functions\n",
    "    * Random number generation\n",
    "\n",
    "### Importance \n",
    "\n",
    "* Important for data analysis.\n",
    "* Way to store data in a structured format, making it easier to organize, access, and manipulate data.\n",
    "* Pandas library is built on top of NumPy.\n",
    "\n",
    "For more information on NumPy check out the official documentation [here](https://numpy.org/doc/1.26/)."
   ]
  },
  {
   "cell_type": "markdown",
   "id": "e5c8b850",
   "metadata": {},
   "source": [
    "### Array Operations\n",
    "\n",
    "#### Notes\n",
    "* Creation: **`import numpy as np; np.array([1, 2, 3])`**\n",
    "* Basic Operations:  `+`, `-`, `/`, `*` performed element-wise\n",
    "* Slicing: **`array[1:3]`**\n",
    "* Boolean Indexing: **`array[array > 0]`**\n",
    "\n",
    "#### Examples\n",
    "\n",
    "Let's start with creating a fictional array with the number of years of experience required for five different data science job listings."
   ]
  },
  {
   "cell_type": "code",
   "execution_count": 3,
   "id": "8a721654",
   "metadata": {},
   "outputs": [],
   "source": [
    "import numpy as np"
   ]
  },
  {
   "cell_type": "code",
   "execution_count": 4,
   "id": "d4c21490",
   "metadata": {},
   "outputs": [],
   "source": [
    "my_array = np.array([1, 2, 3, 4])"
   ]
  },
  {
   "cell_type": "code",
   "execution_count": 5,
   "id": "3b300316",
   "metadata": {},
   "outputs": [
    {
     "data": {
      "text/plain": [
       "2.5"
      ]
     },
     "execution_count": 5,
     "metadata": {},
     "output_type": "execute_result"
    }
   ],
   "source": [
    "my_array.mean()"
   ]
  },
  {
   "cell_type": "code",
   "execution_count": 6,
   "id": "c5bc909c",
   "metadata": {},
   "outputs": [],
   "source": [
    "# Job titles\n",
    "job_titles = np.array(['Data Analyst', 'Data Sceintist', 'Data Engineer', 'Machine Learning Engineer'])\n",
    "\n",
    "# Base salaries\n",
    "base_salaries = np.array([60000, 80000, 75000, 90000])\n",
    "\n",
    "# Bonus rates\n",
    "bonus_rates = np.array([.05, .1, .08, .12])"
   ]
  },
  {
   "cell_type": "code",
   "execution_count": 7,
   "id": "1a911e83",
   "metadata": {},
   "outputs": [
    {
     "data": {
      "text/plain": [
       "array([ 63000.,  88000.,  81000., 100800.])"
      ]
     },
     "execution_count": 7,
     "metadata": {},
     "output_type": "execute_result"
    }
   ],
   "source": [
    "total_salary = base_salaries * (1 + bonus_rates)\n",
    "\n",
    "total_salary"
   ]
  },
  {
   "cell_type": "code",
   "execution_count": 8,
   "id": "40d09f6c",
   "metadata": {},
   "outputs": [
    {
     "data": {
      "text/plain": [
       "83200.0"
      ]
     },
     "execution_count": 8,
     "metadata": {},
     "output_type": "execute_result"
    }
   ],
   "source": [
    "np.mean(total_salary)"
   ]
  },
  {
   "cell_type": "code",
   "execution_count": 9,
   "id": "240352ba",
   "metadata": {},
   "outputs": [],
   "source": [
    "# in some cases arrays won't have the same number of entries\n",
    "\n",
    "# Job titles\n",
    "job_titles = np.array(['Data Analyst', 'Data Sceintist', 'Data Engineer', 'Machine Learning Engineer', 'AI Engineer']) # we have an extra job title but we don't have salary for it\n",
    "\n",
    "# Base salaries\n",
    "base_salaries = np.array([60000, 80000, 75000, 90000, np.nan]) # nan = not a number\n",
    "\n",
    "# Bonus rates\n",
    "bonus_rates = np.array([.05, .1, .08, .12, np.nan])"
   ]
  },
  {
   "cell_type": "code",
   "execution_count": 10,
   "id": "32e2a9a1",
   "metadata": {},
   "outputs": [
    {
     "data": {
      "text/plain": [
       "array([ 63000.,  88000.,  81000., 100800.,     nan])"
      ]
     },
     "execution_count": 10,
     "metadata": {},
     "output_type": "execute_result"
    }
   ],
   "source": [
    "total_salary = base_salaries * (1 + bonus_rates)\n",
    "\n",
    "total_salary"
   ]
  },
  {
   "cell_type": "code",
   "execution_count": 11,
   "id": "80114748",
   "metadata": {},
   "outputs": [
    {
     "data": {
      "text/plain": [
       "nan"
      ]
     },
     "execution_count": 11,
     "metadata": {},
     "output_type": "execute_result"
    }
   ],
   "source": [
    "np.mean(total_salary)"
   ]
  },
  {
   "cell_type": "code",
   "execution_count": 12,
   "id": "f8686f71",
   "metadata": {},
   "outputs": [
    {
     "data": {
      "text/plain": [
       "83200.0"
      ]
     },
     "execution_count": 12,
     "metadata": {},
     "output_type": "execute_result"
    }
   ],
   "source": [
    "np.nanmean(total_salary)"
   ]
  },
  {
   "cell_type": "markdown",
   "id": "4f9817db",
   "metadata": {},
   "source": [
    "### Practice"
   ]
  },
  {
   "cell_type": "markdown",
   "id": "40b0bf70",
   "metadata": {},
   "source": [
    "1️⃣ Basics - NumPy 🔢 </br>\n",
    "Problem Statement:</br>\n",
    "Create a NumPy array representing the number of job applications received each day for a week (7 days). The array should be called applications and contain the following numbers: [10, 15, 7, 20, 25, 30, 5]. Print the array."
   ]
  },
  {
   "cell_type": "code",
   "execution_count": 13,
   "id": "215c4f51",
   "metadata": {},
   "outputs": [],
   "source": [
    "applications = np.array([10, 15, 7, 20, 25, 30, 5])"
   ]
  },
  {
   "cell_type": "code",
   "execution_count": 14,
   "id": "9802b720",
   "metadata": {},
   "outputs": [
    {
     "name": "stdout",
     "output_type": "stream",
     "text": [
      "[10 15  7 20 25 30  5]\n"
     ]
    }
   ],
   "source": [
    "print(applications)"
   ]
  },
  {
   "cell_type": "code",
   "execution_count": 15,
   "id": "501eabfd",
   "metadata": {},
   "outputs": [
    {
     "data": {
      "text/plain": [
       "array([10, 15,  7, 20, 25, 30,  5])"
      ]
     },
     "execution_count": 15,
     "metadata": {},
     "output_type": "execute_result"
    }
   ],
   "source": [
    "applications"
   ]
  },
  {
   "cell_type": "markdown",
   "id": "f570040d",
   "metadata": {},
   "source": [
    "Create a NumPy array representing the number of job postings for different job titles called postings. The array contains [10, 15, 7, 20, 25, 30, 5]. Use slicing to get the number of postings for the first three job titles."
   ]
  },
  {
   "cell_type": "code",
   "execution_count": 16,
   "id": "c34ad4b0",
   "metadata": {},
   "outputs": [
    {
     "name": "stdout",
     "output_type": "stream",
     "text": [
      "[10 15  7 20 25 30  5]\n"
     ]
    }
   ],
   "source": [
    "postings_list = np.array([10, 15, 7, 20, 25, 30, 5])\n",
    "print(postings_list)"
   ]
  },
  {
   "cell_type": "code",
   "execution_count": 19,
   "id": "799c5c77",
   "metadata": {},
   "outputs": [],
   "source": [
    "first_three_jobs = postings_list[0:3]"
   ]
  },
  {
   "cell_type": "code",
   "execution_count": 20,
   "id": "4e742d69",
   "metadata": {},
   "outputs": [
    {
     "data": {
      "text/plain": [
       "array([10, 15,  7])"
      ]
     },
     "execution_count": 20,
     "metadata": {},
     "output_type": "execute_result"
    }
   ],
   "source": [
    "first_three_jobs"
   ]
  },
  {
   "cell_type": "markdown",
   "id": "b8598130",
   "metadata": {},
   "source": [
    "Create a NumPy array representing the salaries called salaries offered for five different job positions. Calculate the highest and lowest salary using NumPy functions. The array salaries contains [70000, 85000, 60000, 95000, 80000]."
   ]
  },
  {
   "cell_type": "code",
   "execution_count": 21,
   "id": "89a5687a",
   "metadata": {},
   "outputs": [
    {
     "name": "stdout",
     "output_type": "stream",
     "text": [
      "[70000 85000 60000 95000 80000]\n",
      "95000\n",
      "60000\n"
     ]
    }
   ],
   "source": [
    "salaries_list = np.array([70000, 85000, 60000, 95000, 80000])\n",
    "max_salary = np.max(salaries_list)\n",
    "min_salary = np.min(salaries_list)\n",
    "\n",
    "print(salaries_list)\n",
    "print(max_salary)\n",
    "print(min_salary)"
   ]
  },
  {
   "cell_type": "code",
   "execution_count": null,
   "id": "c3cd3b46",
   "metadata": {},
   "outputs": [],
   "source": []
  }
 ],
 "metadata": {
  "kernelspec": {
   "display_name": "base",
   "language": "python",
   "name": "python3"
  },
  "language_info": {
   "codemirror_mode": {
    "name": "ipython",
    "version": 3
   },
   "file_extension": ".py",
   "mimetype": "text/x-python",
   "name": "python",
   "nbconvert_exporter": "python",
   "pygments_lexer": "ipython3",
   "version": "3.11.3"
  }
 },
 "nbformat": 4,
 "nbformat_minor": 5
}
