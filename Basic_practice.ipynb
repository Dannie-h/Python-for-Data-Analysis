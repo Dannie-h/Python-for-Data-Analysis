{
 "cells": [
  {
   "cell_type": "markdown",
   "id": "042de1a1",
   "metadata": {},
   "source": [
    "✅ 1. Greet Users\n",
    "Task: Write a function greet_users that takes a list of names and prints \"Hello, [name]!\" for each.\n",
    "\n",
    "🧠 Hint: Loop through the list and use an f-string inside the loop."
   ]
  },
  {
   "cell_type": "code",
   "execution_count": null,
   "id": "993b7bee",
   "metadata": {},
   "outputs": [
    {
     "name": "stdout",
     "output_type": "stream",
     "text": [
      "Hello Amy!\n",
      "Hello Susana!\n",
      "Hello Michelle!\n"
     ]
    }
   ],
   "source": [
    "names = ['Amy', 'Susana', 'Michelle']\n",
    "\n",
    "def greet_users(names):\n",
    "    for name in names:\n",
    "        print(f'Hello {name}!')\n",
    "\n",
    "greet_users(names)"
   ]
  },
  {
   "cell_type": "markdown",
   "id": "64ff68ae",
   "metadata": {},
   "source": [
    "✅ 2. Average of a List\n",
    "Task: Write a function average that takes a list of numbers and returns the average.\n",
    "\n",
    "🧠 Hint: Use sum() and len()."
   ]
  },
  {
   "cell_type": "code",
   "execution_count": 10,
   "id": "9d4894e2",
   "metadata": {},
   "outputs": [
    {
     "data": {
      "text/plain": [
       "48.5"
      ]
     },
     "execution_count": 10,
     "metadata": {},
     "output_type": "execute_result"
    }
   ],
   "source": [
    "numbers = [20, 55, 37, 82]\n",
    "\n",
    "def calc_avg(numbers):\n",
    "    avg = sum(numbers)/len(numbers)\n",
    "    return avg\n",
    "\n",
    "calc_avg(numbers)"
   ]
  },
  {
   "cell_type": "markdown",
   "id": "8af09664",
   "metadata": {},
   "source": [
    "✅ 3. Count Words Longer Than N\n",
    "Task: Write a function count_long_words(words, n) that returns how many words in the list are longer than n characters.\n",
    "\n",
    "🧠 Hint: Loop through the list, use len(), and a counter."
   ]
  },
  {
   "cell_type": "code",
   "execution_count": 13,
   "id": "4b49c7a8",
   "metadata": {},
   "outputs": [
    {
     "data": {
      "text/plain": [
       "3"
      ]
     },
     "execution_count": 13,
     "metadata": {},
     "output_type": "execute_result"
    }
   ],
   "source": [
    "words = ['math', 'science', 'chemisty', 'physics', 'art']\n",
    "\n",
    "def count_long_words(words, length):\n",
    "    count = 0\n",
    "    for word in words:\n",
    "        if len(word) > length:\n",
    "            count += 1\n",
    "    return count\n",
    "    \n",
    "count_long_words(words, 4)\n",
    "            \n"
   ]
  },
  {
   "cell_type": "markdown",
   "id": "fea0c20a",
   "metadata": {},
   "source": [
    "✅ 4. Filter Expensive Products\n",
    "Task: Given a list of dictionaries like\n",
    "\n",
    "\n",
    "products = [\n",
    "    {\"name\": \"Laptop\", \"price\": 1000},\n",
    "    {\"name\": \"Mouse\", \"price\": 25}\n",
    "]\n",
    "\n",
    "Write a function filter_expensive(products, min_price) that returns a list of product names with price > min_price.\n",
    "\n",
    "🧠 Hint: Loop through, check product['price'], and build a list of product['name'].\n"
   ]
  },
  {
   "cell_type": "code",
   "execution_count": 14,
   "id": "10b21aca",
   "metadata": {},
   "outputs": [
    {
     "data": {
      "text/plain": [
       "[{'name': 'Laptop', 'price': 1000}]"
      ]
     },
     "execution_count": 14,
     "metadata": {},
     "output_type": "execute_result"
    }
   ],
   "source": [
    "products = [\n",
    "    {\"name\": \"Laptop\", \"price\": 1000},\n",
    "    {\"name\": \"Mouse\", \"price\": 25}\n",
    "]\n",
    "\n",
    "def filter_expensive(products, min_price):\n",
    "    expensive = [product for product in products if product['price'] > min_price]\n",
    "    return expensive\n",
    "\n",
    "filter_expensive(products, 100)\n",
    "    "
   ]
  },
  {
   "cell_type": "markdown",
   "id": "8cd9ae45",
   "metadata": {},
   "source": [
    "✅ 5. Locations From Job Postings\n",
    "\n",
    "Task: Given a list of job postings (dicts with 'title' and 'location'), return a list of unique locations.\n",
    "\n",
    "🧠 Hint: Use a set to collect them, and convert it to a list at the end."
   ]
  },
  {
   "cell_type": "code",
   "execution_count": 15,
   "id": "b55e815a",
   "metadata": {},
   "outputs": [
    {
     "data": {
      "text/plain": [
       "['San Francisco', 'Austin', 'New York']"
      ]
     },
     "execution_count": 15,
     "metadata": {},
     "output_type": "execute_result"
    }
   ],
   "source": [
    "job_postings = [\n",
    "    {'title': 'Data Scientist', 'location': 'New York'},\n",
    "    {'title': 'Data Analyst', 'location': 'San Francisco'},\n",
    "    {'title': 'Machine Learning Engineer', 'location': 'New York'},\n",
    "    {'title': 'Data Engineer', 'location': 'Austin'},\n",
    "    {'title': 'Data Scientist', 'location': 'San Francisco'}\n",
    "]\n",
    "\n",
    "def get_unique_locations(job_postings):\n",
    "    unique_locations = list(set(posting['location'] for posting in job_postings))\n",
    "    return unique_locations\n",
    "\n",
    "get_unique_locations(job_postings)"
   ]
  },
  {
   "cell_type": "code",
   "execution_count": null,
   "id": "5bf08f71",
   "metadata": {},
   "outputs": [],
   "source": []
  }
 ],
 "metadata": {
  "kernelspec": {
   "display_name": "base",
   "language": "python",
   "name": "python3"
  },
  "language_info": {
   "codemirror_mode": {
    "name": "ipython",
    "version": 3
   },
   "file_extension": ".py",
   "mimetype": "text/x-python",
   "name": "python",
   "nbconvert_exporter": "python",
   "pygments_lexer": "ipython3",
   "version": "3.11.3"
  }
 },
 "nbformat": 4,
 "nbformat_minor": 5
}
