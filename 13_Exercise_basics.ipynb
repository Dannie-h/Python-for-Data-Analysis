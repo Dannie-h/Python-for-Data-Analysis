{
 "cells": [
  {
   "cell_type": "markdown",
   "id": "8053eeef",
   "metadata": {},
   "source": [
    "Filter what jobs to apply for based on a list of skills"
   ]
  },
  {
   "cell_type": "code",
   "execution_count": 4,
   "id": "baeceb91",
   "metadata": {},
   "outputs": [],
   "source": [
    "my_skills = ['Python', 'SQL', 'Excel']"
   ]
  },
  {
   "cell_type": "code",
   "execution_count": 6,
   "id": "d3cd2fa3",
   "metadata": {},
   "outputs": [],
   "source": [
    "# Define data science job roles and required skills\n",
    "job_roles = [\n",
    "    {'role': 'Data Analyst', 'skills': ['Python', 'SQL', 'Excel']},\n",
    "    {'role': 'Data Scientist', 'skills': ['Python', 'R', 'Machine Learning', 'Deep Learning']},\n",
    "    {'role': 'Machine Learning Engineer', 'skills': ['Python', 'TensorFlow', 'PyTorch', 'Scikit-Learn']},\n",
    "    {'role': 'Data Engineer', 'skills': ['Python', 'Apache Spark', 'Hadoop', 'SQL']},\n",
    "    {'role': 'Business Intelligence Analyst', 'skills': ['Python', 'SQL', 'Tableau', 'Power BI', 'Excel']},\n",
    "    {'role': 'Quantitative Analyst', 'skills': ['R', 'Python', 'MATLAB', 'Statistics']},\n",
    "    {'role': 'Operations Analyst', 'skills': ['Python', 'SQL', 'Data Visualization', 'Process Improvement']},\n",
    "    {'role': 'Database Administrator', 'skills': ['SQL', 'Oracle', 'MySQL', 'Database Management']},\n",
    "    {'role': 'AI Engineer', 'skills': ['Python', 'TensorFlow', 'PyTorch', 'Computer Vision']},\n",
    "    {'role': 'Statistician', 'skills': ['R', 'SAS', 'Python', 'Statistical Modeling']}\n",
    "]"
   ]
  },
  {
   "cell_type": "code",
   "execution_count": 23,
   "id": "f495f7fa",
   "metadata": {},
   "outputs": [
    {
     "data": {
      "text/plain": [
       "['Data Analyst', 'Business Intelligence Analyst']"
      ]
     },
     "execution_count": 23,
     "metadata": {},
     "output_type": "execute_result"
    }
   ],
   "source": [
    "qualified_roles = []\n",
    "for job in job_roles:\n",
    "    qualified = True\n",
    "    for skill in my_skills:\n",
    "        if skill not in job['skills']:\n",
    "            qualified = False\n",
    "            break\n",
    "    if qualified:\n",
    "        qualified_roles.append(job['role'])\n",
    "qualified_roles\n",
    "    "
   ]
  },
  {
   "cell_type": "code",
   "execution_count": 25,
   "id": "835821cc",
   "metadata": {},
   "outputs": [
    {
     "data": {
      "text/plain": [
       "['Data Analyst', 'Business Intelligence Analyst']"
      ]
     },
     "execution_count": 25,
     "metadata": {},
     "output_type": "execute_result"
    }
   ],
   "source": [
    "# Written more succintly using 'ALL' function\n",
    "\n",
    "qualified_roles = []\n",
    "\n",
    "for job in job_roles:\n",
    "    #Check if all required skills are in my_skills\n",
    "    if all(skill in job['skills'] for skill in my_skills):\n",
    "        #Add the job role to the qualified_roles list\n",
    "        qualified_roles.append(job['role'])\n",
    "qualified_roles"
   ]
  },
  {
   "cell_type": "code",
   "execution_count": 27,
   "id": "721cbaf0",
   "metadata": {},
   "outputs": [
    {
     "data": {
      "text/plain": [
       "['Data Analyst', 'Business Intelligence Analyst']"
      ]
     },
     "execution_count": 27,
     "metadata": {},
     "output_type": "execute_result"
    }
   ],
   "source": [
    "# Written in list comprehension form:\n",
    "\n",
    "qualified_roles = [job['role'] for job in job_roles if all(skill in job['skills'] for skill in my_skills)]\n",
    "qualified_roles"
   ]
  },
  {
   "cell_type": "markdown",
   "id": "2bebeb94",
   "metadata": {},
   "source": [
    "#### List comprehension practice"
   ]
  },
  {
   "cell_type": "markdown",
   "id": "420e2599",
   "metadata": {},
   "source": [
    "Create a list comprehension that converts a list of salaries from USD to EUR using a conversion rate of 0.85. With the list of salaries being: salaries_usd = [100000, 120000, 80000, 90000]."
   ]
  },
  {
   "cell_type": "code",
   "execution_count": 29,
   "id": "ae13ee89",
   "metadata": {},
   "outputs": [
    {
     "data": {
      "text/plain": [
       "[85000.0, 102000.0, 68000.0, 76500.0]"
      ]
     },
     "execution_count": 29,
     "metadata": {},
     "output_type": "execute_result"
    }
   ],
   "source": [
    "salaries_usd = [100000, 120000, 80000, 90000]\n",
    "\n",
    "salary_eur = [salary*0.85 for salary in salaries_usd]\n",
    "salary_eur"
   ]
  },
  {
   "cell_type": "markdown",
   "id": "f3ecb333",
   "metadata": {},
   "source": [
    "Create a list of data science job titles that require more than 2 years of experience from the given dictionary. With job_experience set to {'Data Scientist': 3, 'Data Analyst': 1, 'Machine Learning Specialist': 4, 'Data Engineer': 2}."
   ]
  },
  {
   "cell_type": "code",
   "execution_count": 32,
   "id": "820a238d",
   "metadata": {},
   "outputs": [
    {
     "data": {
      "text/plain": [
       "['Data Scientist', 'Machine Learning Specialist']"
      ]
     },
     "execution_count": 32,
     "metadata": {},
     "output_type": "execute_result"
    }
   ],
   "source": [
    "job_experience = {'Data Scientist': 3, 'Data Analyst': 1, 'Machine Learning Specialist': 4, 'Data Engineer': 2}\n",
    "roles_2yrs_more_experience = []\n",
    "\n",
    "for role, experience in job_experience.items():\n",
    "    if experience > 2:\n",
    "        roles_2yrs_more_experience.append(role)\n",
    "roles_2yrs_more_experience\n"
   ]
  },
  {
   "cell_type": "code",
   "execution_count": 34,
   "id": "095dc687",
   "metadata": {},
   "outputs": [
    {
     "data": {
      "text/plain": [
       "['Data Engineer', 'Data Engineer']"
      ]
     },
     "execution_count": 34,
     "metadata": {},
     "output_type": "execute_result"
    }
   ],
   "source": [
    "roles_2yrs_more_experience = [role for roles, yrs_experience in job_experience.items() if yrs_experience > 2]\n",
    "roles_2yrs_more_experience"
   ]
  },
  {
   "cell_type": "markdown",
   "id": "a2a9e0cf",
   "metadata": {},
   "source": [
    "Create a list comprehension that extracts job titles with salaries greater than 90,000 from a given list of dictionaries containing job titles and salaries. The dictionary is job_salary_dicts named and it is set to [{'job_title': 'Data Scientist', 'salary': 100000}, {'job_title': 'Data Analyst', 'salary': 120000}, {'job_title': 'Data Engineer', 'salary': 80000}, {'job_title': 'Machine Learning Engineer', 'salary': 90000}]."
   ]
  },
  {
   "cell_type": "code",
   "execution_count": 38,
   "id": "3d4cd939",
   "metadata": {},
   "outputs": [
    {
     "data": {
      "text/plain": [
       "['Data Scientist', 'Data Analyst']"
      ]
     },
     "execution_count": 38,
     "metadata": {},
     "output_type": "execute_result"
    }
   ],
   "source": [
    "job_salary_dicts = [  \n",
    "    {'job_title': 'Data Scientist', 'salary': 100000},\n",
    "    {'job_title': 'Data Analyst', 'salary': 120000},\n",
    "    {'job_title': 'Data Engineer', 'salary': 80000},\n",
    "    {'job_title': 'Machine Learning Engineer', 'salary': 90000}\n",
    "]\n",
    "\n",
    "high_salary = []\n",
    "\n",
    "for job in job_salary_dicts:\n",
    "\n",
    "    if job['salary'] > 90000:\n",
    "         high_salary.append(job['job_title'])\n",
    "high_salary\n",
    "        "
   ]
  },
  {
   "cell_type": "code",
   "execution_count": 42,
   "id": "829c0385",
   "metadata": {},
   "outputs": [
    {
     "data": {
      "text/plain": [
       "['Data Scientist', 'Data Analyst']"
      ]
     },
     "execution_count": 42,
     "metadata": {},
     "output_type": "execute_result"
    }
   ],
   "source": [
    "high_salary = [job['job_title'] for job in job_salary_dicts if job['salary'] > 90000]\n",
    "high_salary"
   ]
  },
  {
   "cell_type": "markdown",
   "id": "6f1b6e1d",
   "metadata": {},
   "source": [
    "#### Extra practice"
   ]
  },
  {
   "cell_type": "markdown",
   "id": "57dc08d7",
   "metadata": {},
   "source": [
    "1. Filter High Grades\n",
    "\n",
    "students = [\n",
    "    {\"name\": \"Alice\", \"grade\": 85},\n",
    "    {\"name\": \"Bob\", \"grade\": 72},\n",
    "    {\"name\": \"Charlie\", \"grade\": 90},\n",
    "    {\"name\": \"Diana\", \"grade\": 67}\n",
    "]</br>\n",
    "👉 Create a list of student names who scored 80 or above.\n",
    "\n",
    "(Hint: use student['grade'] in your condition)"
   ]
  },
  {
   "cell_type": "code",
   "execution_count": 43,
   "id": "303fb108",
   "metadata": {},
   "outputs": [
    {
     "data": {
      "text/plain": [
       "['Alice', 'Charlie']"
      ]
     },
     "execution_count": 43,
     "metadata": {},
     "output_type": "execute_result"
    }
   ],
   "source": [
    "students = [\n",
    "    {\"name\": \"Alice\", \"grade\": 85},\n",
    "    {\"name\": \"Bob\", \"grade\": 72},\n",
    "    {\"name\": \"Charlie\", \"grade\": 90},\n",
    "    {\"name\": \"Diana\", \"grade\": 67}\n",
    "]\n",
    "\n",
    "high_scorer = [student['name'] for student in students  if student['grade'] >= 80]\n",
    "high_scorer"
   ]
  },
  {
   "cell_type": "markdown",
   "id": "f1236048",
   "metadata": {},
   "source": [
    "2. Get Short Product Names\n",
    "\n",
    "products = [\n",
    "    {\"name\": \"Keyboard\", \"price\": 50},\n",
    "    {\"name\": \"Mouse\", \"price\": 25},\n",
    "    {\"name\": \"Monitor\", \"price\": 200},\n",
    "    {\"name\": \"USB Cable\", \"price\": 10}\n",
    "]</br>\n",
    "👉 Create a list of product names that are shorter than 7 characters long.\n",
    "\n"
   ]
  },
  {
   "cell_type": "code",
   "execution_count": 44,
   "id": "bb4e538e",
   "metadata": {},
   "outputs": [
    {
     "data": {
      "text/plain": [
       "['Mouse']"
      ]
     },
     "execution_count": 44,
     "metadata": {},
     "output_type": "execute_result"
    }
   ],
   "source": [
    "products = [\n",
    "    {\"name\": \"Keyboard\", \"price\": 50},\n",
    "    {\"name\": \"Mouse\", \"price\": 25},\n",
    "    {\"name\": \"Monitor\", \"price\": 200},\n",
    "    {\"name\": \"USB Cable\", \"price\": 10}\n",
    "]\n",
    "\n",
    "short_product_name = [product['name'] for product in products if len(product['name']) < 7]\n",
    "short_product_name"
   ]
  },
  {
   "cell_type": "markdown",
   "id": "4c1fe88f",
   "metadata": {},
   "source": [
    "3. Books Over 300 Pages\n",
    "\n",
    "books = [\n",
    "    {\"title\": \"Python Basics\", \"pages\": 250},\n",
    "    {\"title\": \"Advanced Python\", \"pages\": 350},\n",
    "    {\"title\": \"Data Science Handbook\", \"pages\": 500}\n",
    "]</br>\n",
    "👉 Create a list of titles of books with more than 300 pages."
   ]
  },
  {
   "cell_type": "code",
   "execution_count": 45,
   "id": "0de22cce",
   "metadata": {},
   "outputs": [
    {
     "data": {
      "text/plain": [
       "['Advanced Python', 'Data Science Handbook']"
      ]
     },
     "execution_count": 45,
     "metadata": {},
     "output_type": "execute_result"
    }
   ],
   "source": [
    "books = [\n",
    "    {\"title\": \"Python Basics\", \"pages\": 250},\n",
    "    {\"title\": \"Advanced Python\", \"pages\": 350},\n",
    "    {\"title\": \"Data Science Handbook\", \"pages\": 500}\n",
    "]\n",
    "\n",
    "long_books = [book['title'] for book in books if book['pages'] > 300]\n",
    "long_books"
   ]
  },
  {
   "cell_type": "markdown",
   "id": "f4de3458",
   "metadata": {},
   "source": [
    "4. Employees with 'Manager' in Title\n",
    "\n",
    "employees = [\n",
    "    {\"name\": \"Emily\", \"position\": \"Product Manager\"},\n",
    "    {\"name\": \"Tom\", \"position\": \"Engineer\"},\n",
    "    {\"name\": \"Anna\", \"position\": \"Marketing Manager\"}\n",
    "]</br>\n",
    "👉 Create a list of employee names where their position includes the word \"Manager\"."
   ]
  },
  {
   "cell_type": "code",
   "execution_count": 49,
   "id": "9d738c65",
   "metadata": {},
   "outputs": [
    {
     "data": {
      "text/plain": [
       "['Emily', 'Anna']"
      ]
     },
     "execution_count": 49,
     "metadata": {},
     "output_type": "execute_result"
    }
   ],
   "source": [
    "employees = [\n",
    "    {\"name\": \"Emily\", \"position\": \"Product Manager\"},\n",
    "    {\"name\": \"Tom\", \"position\": \"Engineer\"},\n",
    "    {\"name\": \"Anna\", \"position\": \"Marketing Manager\"}\n",
    "]\n",
    "\n",
    "\n",
    "'''manager_roles = []\n",
    "for employee in employees:\n",
    "    if 'Manager' in employee['position']:\n",
    "        manager_roles.append(employee['name'])\n",
    "manager_roles'''\n",
    "\n",
    "manager_title = [employee['name'] for employee in employees if 'Manager' in employee['position'] ]\n",
    "manager_title"
   ]
  },
  {
   "cell_type": "markdown",
   "id": "605b1ec5",
   "metadata": {},
   "source": [
    "5. Cities with Population over 1M\n",
    "\n",
    "cities = [\n",
    "    {\"city\": \"New York\", \"population\": 8419600},\n",
    "    {\"city\": \"Austin\", \"population\": 964254},\n",
    "    {\"city\": \"San Francisco\", \"population\": 873965}\n",
    "]\n",
    "\n",
    "👉 Get a list of city names with a population over 1,000,000."
   ]
  },
  {
   "cell_type": "code",
   "execution_count": 51,
   "id": "27b2e33a",
   "metadata": {},
   "outputs": [
    {
     "data": {
      "text/plain": [
       "['New York']"
      ]
     },
     "execution_count": 51,
     "metadata": {},
     "output_type": "execute_result"
    }
   ],
   "source": [
    "cities = [\n",
    "    {\"city\": \"New York\", \"population\": 8419600},\n",
    "    {\"city\": \"Austin\", \"population\": 964254},\n",
    "    {\"city\": \"San Francisco\", \"population\": 873965}\n",
    "]\n",
    "\n",
    "'''big_cities = []\n",
    "for city in cities:\n",
    "    if city['population'] > 1_000_000:\n",
    "        big_cities.append(city['city'])\n",
    "big_cities'''\n",
    "\n",
    "big_cities = [ city['city'] for city in cities if city['population'] > 1_000_000]\n",
    "big_cities"
   ]
  },
  {
   "cell_type": "markdown",
   "id": "045b18f6",
   "metadata": {},
   "source": [
    "#### Multiple conditions"
   ]
  },
  {
   "cell_type": "markdown",
   "id": "f6f1177d",
   "metadata": {},
   "source": [
    "1. Filter Expensive + In-Stock Products\n",
    "\n",
    "products = [\n",
    "    {\"name\": \"Laptop\", \"price\": 1200, \"in_stock\": True},\n",
    "    {\"name\": \"Tablet\", \"price\": 300, \"in_stock\": False},\n",
    "    {\"name\": \"Monitor\", \"price\": 150, \"in_stock\": True},\n",
    "    {\"name\": \"Phone\", \"price\": 900, \"in_stock\": True}\n",
    "]\n",
    "\n",
    "👉 Create a list of product names that cost more than $500 and are in stock."
   ]
  },
  {
   "cell_type": "code",
   "execution_count": 54,
   "id": "62dba74d",
   "metadata": {},
   "outputs": [
    {
     "data": {
      "text/plain": [
       "['Laptop', 'Phone']"
      ]
     },
     "execution_count": 54,
     "metadata": {},
     "output_type": "execute_result"
    }
   ],
   "source": [
    "products = [\n",
    "    {\"name\": \"Laptop\", \"price\": 1200, \"in_stock\": True},\n",
    "    {\"name\": \"Tablet\", \"price\": 300, \"in_stock\": False},\n",
    "    {\"name\": \"Monitor\", \"price\": 150, \"in_stock\": True},\n",
    "    {\"name\": \"Phone\", \"price\": 900, \"in_stock\": True}\n",
    "]\n",
    "\n",
    "'''instock_expensive = []\n",
    "\n",
    "for product in products:\n",
    "    if product['in_stock'] is True:\n",
    "        if product['price'] > 500:\n",
    "            instock_expensive.append(product['name'])\n",
    "instock_expensive'''\n",
    "\n",
    "in_stock_expensive = [product['name'] for product in products if product['in_stock'] is True and product['price'] > 500]\n",
    "in_stock_expensive\n",
    "\n",
    "\n"
   ]
  },
  {
   "cell_type": "markdown",
   "id": "c824a9bf",
   "metadata": {},
   "source": [
    "2. Top Students in Math\n",
    "\n",
    "grades = [\n",
    "    {\"name\": \"Alice\", \"subject\": \"Math\", \"grade\": 95},\n",
    "    {\"name\": \"Bob\", \"subject\": \"Science\", \"grade\": 91},\n",
    "    {\"name\": \"Charlie\", \"subject\": \"Math\", \"grade\": 82},\n",
    "    {\"name\": \"Diana\", \"subject\": \"Math\", \"grade\": 89}\n",
    "]\n",
    "\n",
    "👉 Create a list of names of students who are in Math and have a grade above 90.\n",
    "\n"
   ]
  },
  {
   "cell_type": "code",
   "execution_count": 55,
   "id": "660430b8",
   "metadata": {},
   "outputs": [
    {
     "data": {
      "text/plain": [
       "['Alice']"
      ]
     },
     "execution_count": 55,
     "metadata": {},
     "output_type": "execute_result"
    }
   ],
   "source": [
    "grades = [\n",
    "    {\"name\": \"Alice\", \"subject\": \"Math\", \"grade\": 95},\n",
    "    {\"name\": \"Bob\", \"subject\": \"Science\", \"grade\": 91},\n",
    "    {\"name\": \"Charlie\", \"subject\": \"Math\", \"grade\": 82},\n",
    "    {\"name\": \"Diana\", \"subject\": \"Math\", \"grade\": 89}\n",
    "]\n",
    "\n",
    "top_students_math = [student['name'] for student in grades if 'Math' in student['subject'] and student['grade'] > 90]\n",
    "top_students_math"
   ]
  },
  {
   "cell_type": "markdown",
   "id": "915bcad7",
   "metadata": {},
   "source": [
    "3. Cities Starting with ‘S’ and Over 500K People\n",
    "\n",
    "cities = [\n",
    "    {\"city\": \"Seattle\", \"population\": 733000},\n",
    "    {\"city\": \"San Jose\", \"population\": 1035000},\n",
    "    {\"city\": \"Denver\", \"population\": 711000},\n",
    "    {\"city\": \"San Diego\", \"population\": 1406000}\n",
    "]\n",
    "\n",
    "👉 Create a list of city names that start with the letter \"S\" and have a population over 500,000."
   ]
  },
  {
   "cell_type": "code",
   "execution_count": 56,
   "id": "338aee23",
   "metadata": {},
   "outputs": [
    {
     "data": {
      "text/plain": [
       "['Seattle', 'San Jose', 'San Diego']"
      ]
     },
     "execution_count": 56,
     "metadata": {},
     "output_type": "execute_result"
    }
   ],
   "source": [
    "cities = [\n",
    "    {\"city\": \"Seattle\", \"population\": 733000},\n",
    "    {\"city\": \"San Jose\", \"population\": 1035000},\n",
    "    {\"city\": \"Denver\", \"population\": 711000},\n",
    "    {\"city\": \"San Diego\", \"population\": 1406000}\n",
    "]\n",
    "\n",
    "s_city_over_500k = [ city['city'] for city in cities if city['city'].startswith('S') and city['population'] > 500_000]\n",
    "s_city_over_500k"
   ]
  },
  {
   "cell_type": "code",
   "execution_count": null,
   "id": "646552d6",
   "metadata": {},
   "outputs": [],
   "source": []
  }
 ],
 "metadata": {
  "kernelspec": {
   "display_name": "base",
   "language": "python",
   "name": "python3"
  },
  "language_info": {
   "codemirror_mode": {
    "name": "ipython",
    "version": 3
   },
   "file_extension": ".py",
   "mimetype": "text/x-python",
   "name": "python",
   "nbconvert_exporter": "python",
   "pygments_lexer": "ipython3",
   "version": "3.11.3"
  }
 },
 "nbformat": 4,
 "nbformat_minor": 5
}
