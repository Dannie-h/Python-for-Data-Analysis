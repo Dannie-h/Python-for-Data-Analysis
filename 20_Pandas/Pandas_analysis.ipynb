{
 "cells": [
  {
   "cell_type": "code",
   "execution_count": 1,
   "id": "c72e85fd",
   "metadata": {},
   "outputs": [],
   "source": [
    "import pandas as pd"
   ]
  },
  {
   "cell_type": "code",
   "execution_count": 2,
   "id": "499f4095",
   "metadata": {},
   "outputs": [],
   "source": [
    "df = pd.read_csv('data_jobs.csv')"
   ]
  },
  {
   "cell_type": "code",
   "execution_count": 3,
   "id": "df7385ae",
   "metadata": {},
   "outputs": [
    {
     "data": {
      "text/html": [
       "<div>\n",
       "<style scoped>\n",
       "    .dataframe tbody tr th:only-of-type {\n",
       "        vertical-align: middle;\n",
       "    }\n",
       "\n",
       "    .dataframe tbody tr th {\n",
       "        vertical-align: top;\n",
       "    }\n",
       "\n",
       "    .dataframe thead th {\n",
       "        text-align: right;\n",
       "    }\n",
       "</style>\n",
       "<table border=\"1\" class=\"dataframe\">\n",
       "  <thead>\n",
       "    <tr style=\"text-align: right;\">\n",
       "      <th></th>\n",
       "      <th>job_title_short</th>\n",
       "      <th>job_title</th>\n",
       "      <th>job_location</th>\n",
       "      <th>job_via</th>\n",
       "      <th>job_schedule_type</th>\n",
       "      <th>job_work_from_home</th>\n",
       "      <th>search_location</th>\n",
       "      <th>job_posted_date</th>\n",
       "      <th>job_no_degree_mention</th>\n",
       "      <th>job_health_insurance</th>\n",
       "      <th>job_country</th>\n",
       "      <th>salary_rate</th>\n",
       "      <th>salary_year_avg</th>\n",
       "      <th>salary_hour_avg</th>\n",
       "      <th>company_name</th>\n",
       "      <th>job_skills</th>\n",
       "      <th>job_type_skills</th>\n",
       "    </tr>\n",
       "  </thead>\n",
       "  <tbody>\n",
       "    <tr>\n",
       "      <th>0</th>\n",
       "      <td>Senior Data Engineer</td>\n",
       "      <td>Senior Clinical Data Engineer / Principal Clin...</td>\n",
       "      <td>Watertown, CT</td>\n",
       "      <td>via Work Nearby</td>\n",
       "      <td>Full-time</td>\n",
       "      <td>False</td>\n",
       "      <td>Texas, United States</td>\n",
       "      <td>2023-06-16 13:44:15</td>\n",
       "      <td>False</td>\n",
       "      <td>False</td>\n",
       "      <td>United States</td>\n",
       "      <td>NaN</td>\n",
       "      <td>NaN</td>\n",
       "      <td>NaN</td>\n",
       "      <td>Boehringer Ingelheim</td>\n",
       "      <td>NaN</td>\n",
       "      <td>NaN</td>\n",
       "    </tr>\n",
       "    <tr>\n",
       "      <th>1</th>\n",
       "      <td>Data Analyst</td>\n",
       "      <td>Data Analyst</td>\n",
       "      <td>Guadalajara, Jalisco, Mexico</td>\n",
       "      <td>via BeBee México</td>\n",
       "      <td>Full-time</td>\n",
       "      <td>False</td>\n",
       "      <td>Mexico</td>\n",
       "      <td>2023-01-14 13:18:07</td>\n",
       "      <td>False</td>\n",
       "      <td>False</td>\n",
       "      <td>Mexico</td>\n",
       "      <td>NaN</td>\n",
       "      <td>NaN</td>\n",
       "      <td>NaN</td>\n",
       "      <td>Hewlett Packard Enterprise</td>\n",
       "      <td>['r', 'python', 'sql', 'nosql', 'power bi', 't...</td>\n",
       "      <td>{'analyst_tools': ['power bi', 'tableau'], 'pr...</td>\n",
       "    </tr>\n",
       "    <tr>\n",
       "      <th>2</th>\n",
       "      <td>Data Engineer</td>\n",
       "      <td>Data Engineer/Scientist/Analyst, Mid or Senior...</td>\n",
       "      <td>Berlin, Germany</td>\n",
       "      <td>via LinkedIn</td>\n",
       "      <td>Full-time</td>\n",
       "      <td>False</td>\n",
       "      <td>Germany</td>\n",
       "      <td>2023-10-10 13:14:55</td>\n",
       "      <td>False</td>\n",
       "      <td>False</td>\n",
       "      <td>Germany</td>\n",
       "      <td>NaN</td>\n",
       "      <td>NaN</td>\n",
       "      <td>NaN</td>\n",
       "      <td>ALPHA Augmented Services</td>\n",
       "      <td>['python', 'sql', 'c#', 'azure', 'airflow', 'd...</td>\n",
       "      <td>{'analyst_tools': ['dax'], 'cloud': ['azure'],...</td>\n",
       "    </tr>\n",
       "    <tr>\n",
       "      <th>3</th>\n",
       "      <td>Data Engineer</td>\n",
       "      <td>LEAD ENGINEER - PRINCIPAL ANALYST - PRINCIPAL ...</td>\n",
       "      <td>San Antonio, TX</td>\n",
       "      <td>via Diversity.com</td>\n",
       "      <td>Full-time</td>\n",
       "      <td>False</td>\n",
       "      <td>Texas, United States</td>\n",
       "      <td>2023-07-04 13:01:41</td>\n",
       "      <td>True</td>\n",
       "      <td>False</td>\n",
       "      <td>United States</td>\n",
       "      <td>NaN</td>\n",
       "      <td>NaN</td>\n",
       "      <td>NaN</td>\n",
       "      <td>Southwest Research Institute</td>\n",
       "      <td>['python', 'c++', 'java', 'matlab', 'aws', 'te...</td>\n",
       "      <td>{'cloud': ['aws'], 'libraries': ['tensorflow',...</td>\n",
       "    </tr>\n",
       "    <tr>\n",
       "      <th>4</th>\n",
       "      <td>Data Engineer</td>\n",
       "      <td>Data Engineer- Sr Jobs</td>\n",
       "      <td>Washington, DC</td>\n",
       "      <td>via Clearance Jobs</td>\n",
       "      <td>Full-time</td>\n",
       "      <td>False</td>\n",
       "      <td>Sudan</td>\n",
       "      <td>2023-08-07 14:29:36</td>\n",
       "      <td>False</td>\n",
       "      <td>False</td>\n",
       "      <td>Sudan</td>\n",
       "      <td>NaN</td>\n",
       "      <td>NaN</td>\n",
       "      <td>NaN</td>\n",
       "      <td>Kristina Daniel</td>\n",
       "      <td>['bash', 'python', 'oracle', 'aws', 'ansible',...</td>\n",
       "      <td>{'cloud': ['oracle', 'aws'], 'other': ['ansibl...</td>\n",
       "    </tr>\n",
       "  </tbody>\n",
       "</table>\n",
       "</div>"
      ],
      "text/plain": [
       "        job_title_short                                          job_title  \\\n",
       "0  Senior Data Engineer  Senior Clinical Data Engineer / Principal Clin...   \n",
       "1          Data Analyst                                       Data Analyst   \n",
       "2         Data Engineer  Data Engineer/Scientist/Analyst, Mid or Senior...   \n",
       "3         Data Engineer  LEAD ENGINEER - PRINCIPAL ANALYST - PRINCIPAL ...   \n",
       "4         Data Engineer                             Data Engineer- Sr Jobs   \n",
       "\n",
       "                   job_location             job_via job_schedule_type  \\\n",
       "0                 Watertown, CT     via Work Nearby         Full-time   \n",
       "1  Guadalajara, Jalisco, Mexico    via BeBee México         Full-time   \n",
       "2               Berlin, Germany        via LinkedIn         Full-time   \n",
       "3               San Antonio, TX   via Diversity.com         Full-time   \n",
       "4                Washington, DC  via Clearance Jobs         Full-time   \n",
       "\n",
       "   job_work_from_home       search_location      job_posted_date  \\\n",
       "0               False  Texas, United States  2023-06-16 13:44:15   \n",
       "1               False                Mexico  2023-01-14 13:18:07   \n",
       "2               False               Germany  2023-10-10 13:14:55   \n",
       "3               False  Texas, United States  2023-07-04 13:01:41   \n",
       "4               False                 Sudan  2023-08-07 14:29:36   \n",
       "\n",
       "   job_no_degree_mention  job_health_insurance    job_country salary_rate  \\\n",
       "0                  False                 False  United States         NaN   \n",
       "1                  False                 False         Mexico         NaN   \n",
       "2                  False                 False        Germany         NaN   \n",
       "3                   True                 False  United States         NaN   \n",
       "4                  False                 False          Sudan         NaN   \n",
       "\n",
       "   salary_year_avg  salary_hour_avg                  company_name  \\\n",
       "0              NaN              NaN          Boehringer Ingelheim   \n",
       "1              NaN              NaN    Hewlett Packard Enterprise   \n",
       "2              NaN              NaN      ALPHA Augmented Services   \n",
       "3              NaN              NaN  Southwest Research Institute   \n",
       "4              NaN              NaN               Kristina Daniel   \n",
       "\n",
       "                                          job_skills  \\\n",
       "0                                                NaN   \n",
       "1  ['r', 'python', 'sql', 'nosql', 'power bi', 't...   \n",
       "2  ['python', 'sql', 'c#', 'azure', 'airflow', 'd...   \n",
       "3  ['python', 'c++', 'java', 'matlab', 'aws', 'te...   \n",
       "4  ['bash', 'python', 'oracle', 'aws', 'ansible',...   \n",
       "\n",
       "                                     job_type_skills  \n",
       "0                                                NaN  \n",
       "1  {'analyst_tools': ['power bi', 'tableau'], 'pr...  \n",
       "2  {'analyst_tools': ['dax'], 'cloud': ['azure'],...  \n",
       "3  {'cloud': ['aws'], 'libraries': ['tensorflow',...  \n",
       "4  {'cloud': ['oracle', 'aws'], 'other': ['ansibl...  "
      ]
     },
     "execution_count": 3,
     "metadata": {},
     "output_type": "execute_result"
    }
   ],
   "source": [
    "df.head()"
   ]
  },
  {
   "cell_type": "code",
   "execution_count": 4,
   "id": "8dbf1ac0",
   "metadata": {},
   "outputs": [],
   "source": [
    "# clean the date\n",
    "df['job_posted_date'] = pd.to_datetime(df['job_posted_date'])"
   ]
  },
  {
   "cell_type": "code",
   "execution_count": 5,
   "id": "d278e92f",
   "metadata": {},
   "outputs": [
    {
     "data": {
      "text/html": [
       "<div>\n",
       "<style scoped>\n",
       "    .dataframe tbody tr th:only-of-type {\n",
       "        vertical-align: middle;\n",
       "    }\n",
       "\n",
       "    .dataframe tbody tr th {\n",
       "        vertical-align: top;\n",
       "    }\n",
       "\n",
       "    .dataframe thead th {\n",
       "        text-align: right;\n",
       "    }\n",
       "</style>\n",
       "<table border=\"1\" class=\"dataframe\">\n",
       "  <thead>\n",
       "    <tr style=\"text-align: right;\">\n",
       "      <th></th>\n",
       "      <th>salary_year_avg</th>\n",
       "      <th>salary_hour_avg</th>\n",
       "    </tr>\n",
       "  </thead>\n",
       "  <tbody>\n",
       "    <tr>\n",
       "      <th>count</th>\n",
       "      <td>22003.000000</td>\n",
       "      <td>10662.000000</td>\n",
       "    </tr>\n",
       "    <tr>\n",
       "      <th>mean</th>\n",
       "      <td>123286.274072</td>\n",
       "      <td>47.016598</td>\n",
       "    </tr>\n",
       "    <tr>\n",
       "      <th>std</th>\n",
       "      <td>48312.449482</td>\n",
       "      <td>21.890738</td>\n",
       "    </tr>\n",
       "    <tr>\n",
       "      <th>min</th>\n",
       "      <td>15000.000000</td>\n",
       "      <td>8.000000</td>\n",
       "    </tr>\n",
       "    <tr>\n",
       "      <th>25%</th>\n",
       "      <td>90000.000000</td>\n",
       "      <td>27.500000</td>\n",
       "    </tr>\n",
       "    <tr>\n",
       "      <th>50%</th>\n",
       "      <td>115000.000000</td>\n",
       "      <td>45.980000</td>\n",
       "    </tr>\n",
       "    <tr>\n",
       "      <th>75%</th>\n",
       "      <td>150000.000000</td>\n",
       "      <td>61.159996</td>\n",
       "    </tr>\n",
       "    <tr>\n",
       "      <th>max</th>\n",
       "      <td>960000.000000</td>\n",
       "      <td>391.000000</td>\n",
       "    </tr>\n",
       "  </tbody>\n",
       "</table>\n",
       "</div>"
      ],
      "text/plain": [
       "       salary_year_avg  salary_hour_avg\n",
       "count     22003.000000     10662.000000\n",
       "mean     123286.274072        47.016598\n",
       "std       48312.449482        21.890738\n",
       "min       15000.000000         8.000000\n",
       "25%       90000.000000        27.500000\n",
       "50%      115000.000000        45.980000\n",
       "75%      150000.000000        61.159996\n",
       "max      960000.000000       391.000000"
      ]
     },
     "execution_count": 5,
     "metadata": {},
     "output_type": "execute_result"
    }
   ],
   "source": [
    "df.describe()"
   ]
  },
  {
   "cell_type": "code",
   "execution_count": 6,
   "id": "136b3904",
   "metadata": {},
   "outputs": [
    {
     "name": "stdout",
     "output_type": "stream",
     "text": [
      "<class 'pandas.core.frame.DataFrame'>\n",
      "RangeIndex: 785741 entries, 0 to 785740\n",
      "Data columns (total 17 columns):\n",
      " #   Column                 Non-Null Count   Dtype         \n",
      "---  ------                 --------------   -----         \n",
      " 0   job_title_short        785741 non-null  object        \n",
      " 1   job_title              785740 non-null  object        \n",
      " 2   job_location           784696 non-null  object        \n",
      " 3   job_via                785733 non-null  object        \n",
      " 4   job_schedule_type      773074 non-null  object        \n",
      " 5   job_work_from_home     785741 non-null  bool          \n",
      " 6   search_location        785741 non-null  object        \n",
      " 7   job_posted_date        785741 non-null  datetime64[ns]\n",
      " 8   job_no_degree_mention  785741 non-null  bool          \n",
      " 9   job_health_insurance   785741 non-null  bool          \n",
      " 10  job_country            785692 non-null  object        \n",
      " 11  salary_rate            33067 non-null   object        \n",
      " 12  salary_year_avg        22003 non-null   float64       \n",
      " 13  salary_hour_avg        10662 non-null   float64       \n",
      " 14  company_name           785727 non-null  object        \n",
      " 15  job_skills             668704 non-null  object        \n",
      " 16  job_type_skills        668704 non-null  object        \n",
      "dtypes: bool(3), datetime64[ns](1), float64(2), object(11)\n",
      "memory usage: 86.2+ MB\n"
     ]
    }
   ],
   "source": [
    "df.info()"
   ]
  },
  {
   "cell_type": "code",
   "execution_count": 7,
   "id": "096cfd73",
   "metadata": {},
   "outputs": [
    {
     "data": {
      "text/plain": [
       "15000.0"
      ]
     },
     "execution_count": 7,
     "metadata": {},
     "output_type": "execute_result"
    }
   ],
   "source": [
    "df['salary_year_avg'].min()"
   ]
  },
  {
   "cell_type": "code",
   "execution_count": 8,
   "id": "f5bbed1d",
   "metadata": {},
   "outputs": [],
   "source": [
    "# this minimum looks very low- let's get a closer look by finding the row\n",
    "min_salary = df['salary_year_avg'].idxmin()"
   ]
  },
  {
   "cell_type": "code",
   "execution_count": 9,
   "id": "5aa1ba03",
   "metadata": {},
   "outputs": [
    {
     "data": {
      "text/plain": [
       "665729"
      ]
     },
     "execution_count": 9,
     "metadata": {},
     "output_type": "execute_result"
    }
   ],
   "source": [
    "min_salary"
   ]
  },
  {
   "cell_type": "code",
   "execution_count": 10,
   "id": "42401941",
   "metadata": {},
   "outputs": [
    {
     "data": {
      "text/plain": [
       "job_title_short                                              Data Engineer\n",
       "job_title                                           Data Engineer - Hadoop\n",
       "job_location                                                        Brazil\n",
       "job_via                                                       via LinkedIn\n",
       "job_schedule_type                                                Full-time\n",
       "job_work_from_home                                                   False\n",
       "search_location                                                     Brazil\n",
       "job_posted_date                                        2023-12-09 10:05:30\n",
       "job_no_degree_mention                                                 True\n",
       "job_health_insurance                                                 False\n",
       "job_country                                                         Brazil\n",
       "salary_rate                                                           year\n",
       "salary_year_avg                                                    15000.0\n",
       "salary_hour_avg                                                        NaN\n",
       "company_name                                               Net2Source Inc.\n",
       "job_skills               ['java', 'python', 'oracle', 'aws', 'hadoop', ...\n",
       "job_type_skills          {'cloud': ['oracle', 'aws'], 'libraries': ['ha...\n",
       "Name: 665729, dtype: object"
      ]
     },
     "execution_count": 10,
     "metadata": {},
     "output_type": "execute_result"
    }
   ],
   "source": [
    "df.iloc[min_salary]"
   ]
  },
  {
   "cell_type": "code",
   "execution_count": 11,
   "id": "ad3e47aa",
   "metadata": {},
   "outputs": [],
   "source": [
    "# this is a job in Brazil, after some googling, it's quite a high salary there"
   ]
  },
  {
   "cell_type": "code",
   "execution_count": 12,
   "id": "063f28ea",
   "metadata": {},
   "outputs": [
    {
     "data": {
      "text/plain": [
       "array(['Senior Data Engineer', 'Data Analyst', 'Data Engineer',\n",
       "       'Business Analyst', 'Data Scientist', 'Machine Learning Engineer',\n",
       "       'Senior Data Analyst', 'Cloud Engineer', 'Senior Data Scientist',\n",
       "       'Software Engineer'], dtype=object)"
      ]
     },
     "execution_count": 12,
     "metadata": {},
     "output_type": "execute_result"
    }
   ],
   "source": [
    "df['job_title_short'].unique()"
   ]
  },
  {
   "cell_type": "code",
   "execution_count": 13,
   "id": "cd1f1f26",
   "metadata": {},
   "outputs": [
    {
     "data": {
      "text/plain": [
       "Data Analyst                 196075\n",
       "Data Engineer                186241\n",
       "Data Scientist               172286\n",
       "Business Analyst              49063\n",
       "Software Engineer             44929\n",
       "Senior Data Engineer          44563\n",
       "Senior Data Scientist         36957\n",
       "Senior Data Analyst           29216\n",
       "Machine Learning Engineer     14080\n",
       "Cloud Engineer                12331\n",
       "Name: job_title_short, dtype: int64"
      ]
     },
     "execution_count": 13,
     "metadata": {},
     "output_type": "execute_result"
    }
   ],
   "source": [
    "df['job_title_short'].value_counts()"
   ]
  },
  {
   "cell_type": "code",
   "execution_count": 14,
   "id": "123966d4",
   "metadata": {},
   "outputs": [
    {
     "data": {
      "text/plain": [
       "job_title_short\n",
       "Business Analyst             16500.0\n",
       "Cloud Engineer               42000.0\n",
       "Data Analyst                 25000.0\n",
       "Data Engineer                15000.0\n",
       "Data Scientist               27000.0\n",
       "Machine Learning Engineer    30000.0\n",
       "Senior Data Analyst          30000.0\n",
       "Senior Data Engineer         35000.0\n",
       "Senior Data Scientist        45000.0\n",
       "Software Engineer            28000.0\n",
       "Name: salary_year_avg, dtype: float64"
      ]
     },
     "execution_count": 14,
     "metadata": {},
     "output_type": "execute_result"
    }
   ],
   "source": [
    "df.groupby('job_title_short')['salary_year_avg'].min()"
   ]
  },
  {
   "cell_type": "code",
   "execution_count": 15,
   "id": "c8a2c5e3",
   "metadata": {},
   "outputs": [
    {
     "data": {
      "text/plain": [
       "job_title_short\n",
       "Business Analyst              85000.0\n",
       "Cloud Engineer                90000.0\n",
       "Data Analyst                  90000.0\n",
       "Data Engineer                125000.0\n",
       "Data Scientist               127500.0\n",
       "Machine Learning Engineer    106415.0\n",
       "Senior Data Analyst          111175.0\n",
       "Senior Data Engineer         147500.0\n",
       "Senior Data Scientist        155500.0\n",
       "Software Engineer             99150.0\n",
       "Name: salary_year_avg, dtype: float64"
      ]
     },
     "execution_count": 15,
     "metadata": {},
     "output_type": "execute_result"
    }
   ],
   "source": [
    "df.groupby('job_title_short')['salary_year_avg'].median()"
   ]
  },
  {
   "cell_type": "code",
   "execution_count": 16,
   "id": "022a9e96",
   "metadata": {},
   "outputs": [
    {
     "data": {
      "text/plain": [
       "job_title_short    job_country\n",
       "Business Analyst   Afghanistan        NaN\n",
       "                   Albania            NaN\n",
       "                   Algeria            NaN\n",
       "                   Angola             NaN\n",
       "                   Argentina      71100.0\n",
       "                                   ...   \n",
       "Software Engineer  Venezuela          NaN\n",
       "                   Vietnam        53600.0\n",
       "                   Yemen              NaN\n",
       "                   Zambia             NaN\n",
       "                   Zimbabwe           NaN\n",
       "Name: salary_year_avg, Length: 1387, dtype: float64"
      ]
     },
     "execution_count": 16,
     "metadata": {},
     "output_type": "execute_result"
    }
   ],
   "source": [
    "# if we want to groupby multiple columns, we should put them into a list\n",
    "df.groupby(['job_title_short', 'job_country'])['salary_year_avg'].median()"
   ]
  },
  {
   "cell_type": "code",
   "execution_count": 17,
   "id": "6e80db8b",
   "metadata": {},
   "outputs": [
    {
     "data": {
      "text/html": [
       "<div>\n",
       "<style scoped>\n",
       "    .dataframe tbody tr th:only-of-type {\n",
       "        vertical-align: middle;\n",
       "    }\n",
       "\n",
       "    .dataframe tbody tr th {\n",
       "        vertical-align: top;\n",
       "    }\n",
       "\n",
       "    .dataframe thead th {\n",
       "        text-align: right;\n",
       "    }\n",
       "</style>\n",
       "<table border=\"1\" class=\"dataframe\">\n",
       "  <thead>\n",
       "    <tr style=\"text-align: right;\">\n",
       "      <th></th>\n",
       "      <th>salary_year_avg</th>\n",
       "      <th>salary_hour_avg</th>\n",
       "    </tr>\n",
       "    <tr>\n",
       "      <th>job_title_short</th>\n",
       "      <th></th>\n",
       "      <th></th>\n",
       "    </tr>\n",
       "  </thead>\n",
       "  <tbody>\n",
       "    <tr>\n",
       "      <th>Business Analyst</th>\n",
       "      <td>85000.0</td>\n",
       "      <td>40.362499</td>\n",
       "    </tr>\n",
       "    <tr>\n",
       "      <th>Cloud Engineer</th>\n",
       "      <td>90000.0</td>\n",
       "      <td>40.000000</td>\n",
       "    </tr>\n",
       "    <tr>\n",
       "      <th>Data Analyst</th>\n",
       "      <td>90000.0</td>\n",
       "      <td>32.615002</td>\n",
       "    </tr>\n",
       "    <tr>\n",
       "      <th>Data Engineer</th>\n",
       "      <td>125000.0</td>\n",
       "      <td>58.500000</td>\n",
       "    </tr>\n",
       "    <tr>\n",
       "      <th>Data Scientist</th>\n",
       "      <td>127500.0</td>\n",
       "      <td>47.500000</td>\n",
       "    </tr>\n",
       "    <tr>\n",
       "      <th>Machine Learning Engineer</th>\n",
       "      <td>106415.0</td>\n",
       "      <td>47.535000</td>\n",
       "    </tr>\n",
       "    <tr>\n",
       "      <th>Senior Data Analyst</th>\n",
       "      <td>111175.0</td>\n",
       "      <td>47.500000</td>\n",
       "    </tr>\n",
       "    <tr>\n",
       "      <th>Senior Data Engineer</th>\n",
       "      <td>147500.0</td>\n",
       "      <td>61.500000</td>\n",
       "    </tr>\n",
       "    <tr>\n",
       "      <th>Senior Data Scientist</th>\n",
       "      <td>155500.0</td>\n",
       "      <td>47.620003</td>\n",
       "    </tr>\n",
       "    <tr>\n",
       "      <th>Software Engineer</th>\n",
       "      <td>99150.0</td>\n",
       "      <td>47.560001</td>\n",
       "    </tr>\n",
       "  </tbody>\n",
       "</table>\n",
       "</div>"
      ],
      "text/plain": [
       "                           salary_year_avg  salary_hour_avg\n",
       "job_title_short                                            \n",
       "Business Analyst                   85000.0        40.362499\n",
       "Cloud Engineer                     90000.0        40.000000\n",
       "Data Analyst                       90000.0        32.615002\n",
       "Data Engineer                     125000.0        58.500000\n",
       "Data Scientist                    127500.0        47.500000\n",
       "Machine Learning Engineer         106415.0        47.535000\n",
       "Senior Data Analyst               111175.0        47.500000\n",
       "Senior Data Engineer              147500.0        61.500000\n",
       "Senior Data Scientist             155500.0        47.620003\n",
       "Software Engineer                  99150.0        47.560001"
      ]
     },
     "execution_count": 17,
     "metadata": {},
     "output_type": "execute_result"
    }
   ],
   "source": [
    "# same, if we want to aggregate using multiple columns, we need to use a list\n",
    "df.groupby('job_title_short')[['salary_year_avg', 'salary_hour_avg']].median()"
   ]
  },
  {
   "cell_type": "code",
   "execution_count": 18,
   "id": "e54e0bee",
   "metadata": {},
   "outputs": [
    {
     "data": {
      "text/html": [
       "<div>\n",
       "<style scoped>\n",
       "    .dataframe tbody tr th:only-of-type {\n",
       "        vertical-align: middle;\n",
       "    }\n",
       "\n",
       "    .dataframe tbody tr th {\n",
       "        vertical-align: top;\n",
       "    }\n",
       "\n",
       "    .dataframe thead th {\n",
       "        text-align: right;\n",
       "    }\n",
       "</style>\n",
       "<table border=\"1\" class=\"dataframe\">\n",
       "  <thead>\n",
       "    <tr style=\"text-align: right;\">\n",
       "      <th></th>\n",
       "      <th>min</th>\n",
       "      <th>max</th>\n",
       "    </tr>\n",
       "    <tr>\n",
       "      <th>job_title_short</th>\n",
       "      <th></th>\n",
       "      <th></th>\n",
       "    </tr>\n",
       "  </thead>\n",
       "  <tbody>\n",
       "    <tr>\n",
       "      <th>Business Analyst</th>\n",
       "      <td>16500.0</td>\n",
       "      <td>387460.0</td>\n",
       "    </tr>\n",
       "    <tr>\n",
       "      <th>Cloud Engineer</th>\n",
       "      <td>42000.0</td>\n",
       "      <td>280000.0</td>\n",
       "    </tr>\n",
       "    <tr>\n",
       "      <th>Data Analyst</th>\n",
       "      <td>25000.0</td>\n",
       "      <td>650000.0</td>\n",
       "    </tr>\n",
       "    <tr>\n",
       "      <th>Data Engineer</th>\n",
       "      <td>15000.0</td>\n",
       "      <td>525000.0</td>\n",
       "    </tr>\n",
       "    <tr>\n",
       "      <th>Data Scientist</th>\n",
       "      <td>27000.0</td>\n",
       "      <td>960000.0</td>\n",
       "    </tr>\n",
       "    <tr>\n",
       "      <th>Machine Learning Engineer</th>\n",
       "      <td>30000.0</td>\n",
       "      <td>325000.0</td>\n",
       "    </tr>\n",
       "    <tr>\n",
       "      <th>Senior Data Analyst</th>\n",
       "      <td>30000.0</td>\n",
       "      <td>425000.0</td>\n",
       "    </tr>\n",
       "    <tr>\n",
       "      <th>Senior Data Engineer</th>\n",
       "      <td>35000.0</td>\n",
       "      <td>425000.0</td>\n",
       "    </tr>\n",
       "    <tr>\n",
       "      <th>Senior Data Scientist</th>\n",
       "      <td>45000.0</td>\n",
       "      <td>890000.0</td>\n",
       "    </tr>\n",
       "    <tr>\n",
       "      <th>Software Engineer</th>\n",
       "      <td>28000.0</td>\n",
       "      <td>375000.0</td>\n",
       "    </tr>\n",
       "  </tbody>\n",
       "</table>\n",
       "</div>"
      ],
      "text/plain": [
       "                               min       max\n",
       "job_title_short                             \n",
       "Business Analyst           16500.0  387460.0\n",
       "Cloud Engineer             42000.0  280000.0\n",
       "Data Analyst               25000.0  650000.0\n",
       "Data Engineer              15000.0  525000.0\n",
       "Data Scientist             27000.0  960000.0\n",
       "Machine Learning Engineer  30000.0  325000.0\n",
       "Senior Data Analyst        30000.0  425000.0\n",
       "Senior Data Engineer       35000.0  425000.0\n",
       "Senior Data Scientist      45000.0  890000.0\n",
       "Software Engineer          28000.0  375000.0"
      ]
     },
     "execution_count": 18,
     "metadata": {},
     "output_type": "execute_result"
    }
   ],
   "source": [
    "# what if we want 2 different aggregations? eg min and max\n",
    "\n",
    "df.groupby('job_title_short')['salary_year_avg'].agg(['min','max'])"
   ]
  },
  {
   "cell_type": "markdown",
   "id": "1457d674",
   "metadata": {},
   "source": [
    "#### Practice"
   ]
  },
  {
   "cell_type": "markdown",
   "id": "8dd4db58",
   "metadata": {},
   "source": [
    "Calculate the mean of the salary_year_avg column and display the result."
   ]
  },
  {
   "cell_type": "code",
   "execution_count": 21,
   "id": "97f618db",
   "metadata": {},
   "outputs": [
    {
     "data": {
      "text/plain": [
       "123286.27"
      ]
     },
     "execution_count": 21,
     "metadata": {},
     "output_type": "execute_result"
    }
   ],
   "source": [
    "df['salary_year_avg'].mean().round(2)"
   ]
  },
  {
   "cell_type": "markdown",
   "id": "33598427",
   "metadata": {},
   "source": [
    "Calculate the median of the salary_year_avg column and display the result."
   ]
  },
  {
   "cell_type": "code",
   "execution_count": 22,
   "id": "5f111426",
   "metadata": {},
   "outputs": [
    {
     "data": {
      "text/plain": [
       "115000.0"
      ]
     },
     "execution_count": 22,
     "metadata": {},
     "output_type": "execute_result"
    }
   ],
   "source": [
    "df['salary_year_avg'].median()"
   ]
  },
  {
   "cell_type": "markdown",
   "id": "21bd45a3",
   "metadata": {},
   "source": [
    "Group the DataFrame by job_title_short and calculate the average salary_hour_avg for each job title. Display the result."
   ]
  },
  {
   "cell_type": "code",
   "execution_count": 23,
   "id": "799653b5",
   "metadata": {},
   "outputs": [
    {
     "data": {
      "text/plain": [
       "job_title_short\n",
       "Business Analyst             42.723415\n",
       "Cloud Engineer               45.560715\n",
       "Data Analyst                 38.106918\n",
       "Data Engineer                57.196998\n",
       "Data Scientist               49.361403\n",
       "Machine Learning Engineer    48.477935\n",
       "Senior Data Analyst          47.661218\n",
       "Senior Data Engineer         62.848496\n",
       "Senior Data Scientist        54.105631\n",
       "Software Engineer            46.452019\n",
       "Name: salary_hour_avg, dtype: float64"
      ]
     },
     "execution_count": 23,
     "metadata": {},
     "output_type": "execute_result"
    }
   ],
   "source": [
    "df.groupby('job_title_short')['salary_hour_avg'].mean()"
   ]
  },
  {
   "cell_type": "markdown",
   "id": "978bafe5",
   "metadata": {},
   "source": [
    "Find the job title with the lowest average hourly salary and display the job title and the salary."
   ]
  },
  {
   "cell_type": "code",
   "execution_count": 27,
   "id": "50ca16e0",
   "metadata": {},
   "outputs": [
    {
     "data": {
      "text/plain": [
       "job_title_short    Data Scientist\n",
       "salary_hour_avg               8.0\n",
       "Name: 88185, dtype: object"
      ]
     },
     "execution_count": 27,
     "metadata": {},
     "output_type": "execute_result"
    }
   ],
   "source": [
    "min_hour_avg_salary = df['salary_hour_avg'].idxmin()\n",
    "df.iloc[min_hour_avg_salary][['job_title_short', 'salary_hour_avg']]"
   ]
  },
  {
   "cell_type": "markdown",
   "id": "92938e7a",
   "metadata": {},
   "source": [
    "Group the DataFrame by job_country and calculate the total number of job postings for each country. Display the result."
   ]
  },
  {
   "cell_type": "code",
   "execution_count": 30,
   "id": "49fe1667",
   "metadata": {},
   "outputs": [
    {
     "data": {
      "text/plain": [
       "job_country\n",
       "Afghanistan      16\n",
       "Albania         119\n",
       "Algeria         111\n",
       "Angola           11\n",
       "Argentina      8736\n",
       "               ... \n",
       "Venezuela        69\n",
       "Vietnam        2414\n",
       "Yemen            10\n",
       "Zambia          104\n",
       "Zimbabwe         81\n",
       "Length: 160, dtype: int64"
      ]
     },
     "execution_count": 30,
     "metadata": {},
     "output_type": "execute_result"
    }
   ],
   "source": [
    "df.groupby('job_country').size()"
   ]
  },
  {
   "cell_type": "code",
   "execution_count": null,
   "id": "4e13ca55",
   "metadata": {},
   "outputs": [],
   "source": []
  }
 ],
 "metadata": {
  "kernelspec": {
   "display_name": "base",
   "language": "python",
   "name": "python3"
  },
  "language_info": {
   "codemirror_mode": {
    "name": "ipython",
    "version": 3
   },
   "file_extension": ".py",
   "mimetype": "text/x-python",
   "name": "python",
   "nbconvert_exporter": "python",
   "pygments_lexer": "ipython3",
   "version": "3.11.3"
  }
 },
 "nbformat": 4,
 "nbformat_minor": 5
}
