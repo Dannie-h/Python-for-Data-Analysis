{
 "cells": [
  {
   "cell_type": "markdown",
   "id": "381777e5",
   "metadata": {},
   "source": [
    "### Lamba Functions (Anonymous functions)"
   ]
  },
  {
   "cell_type": "markdown",
   "id": "1b024858",
   "metadata": {},
   "source": [
    "\n",
    "\n",
    "* `lambda` functions are small, anonymous functions.\n",
    "* They can have any number of arguments but only one expression.\n",
    "* The expression is evaluated and returned.\n",
    "* It has the syntax of: `lambda arguments: expression`.\n",
    "* Why would you use this?\n",
    "    * Concise, it lets you write functions in a single line of code.\n",
    "    * Since its anonymous it doesn't require a separate name like regular functions are defined using `def` keyword (it's good for when you need a function temporarily).\n",
    "\n",
    "\n",
    "#### Importance\n",
    "\n",
    "Offers a succinct way to define anonymous functions. Useful in pandas for applying quick transformations to data."
   ]
  },
  {
   "cell_type": "markdown",
   "id": "2ea2db01",
   "metadata": {},
   "source": [
    "lambda x: x + 1 </br>\n",
    "lambda arguments: expression"
   ]
  },
  {
   "cell_type": "code",
   "execution_count": 2,
   "id": "c0d7d6c5",
   "metadata": {},
   "outputs": [],
   "source": [
    "mul_two = lambda x: x*2"
   ]
  },
  {
   "cell_type": "code",
   "execution_count": 3,
   "id": "d6197bb0",
   "metadata": {},
   "outputs": [
    {
     "data": {
      "text/plain": [
       "6"
      ]
     },
     "execution_count": 3,
     "metadata": {},
     "output_type": "execute_result"
    }
   ],
   "source": [
    "mul_two(3)"
   ]
  },
  {
   "cell_type": "code",
   "execution_count": 4,
   "id": "49ab84b3",
   "metadata": {},
   "outputs": [
    {
     "data": {
      "text/plain": [
       "6"
      ]
     },
     "execution_count": 4,
     "metadata": {},
     "output_type": "execute_result"
    }
   ],
   "source": [
    "(lambda x: x*2)(3)"
   ]
  },
  {
   "cell_type": "code",
   "execution_count": 5,
   "id": "1917c0ff",
   "metadata": {},
   "outputs": [
    {
     "data": {
      "text/plain": [
       "10"
      ]
     },
     "execution_count": 5,
     "metadata": {},
     "output_type": "execute_result"
    }
   ],
   "source": [
    "(lambda x, y: x*2 + y)(3, 4)"
   ]
  },
  {
   "cell_type": "code",
   "execution_count": 7,
   "id": "9261aaeb",
   "metadata": {},
   "outputs": [
    {
     "data": {
      "text/plain": [
       "[110000.00000000001, 220000.00000000003, 165000.0, 132000.0, 88000.0, 82500.0]"
      ]
     },
     "execution_count": 7,
     "metadata": {},
     "output_type": "execute_result"
    }
   ],
   "source": [
    "salary_list = [100000, 200000, 150000, 120000, 80000, 75000]\n",
    "\n",
    "def calculate_salary(base_salary, bonus_rate=.1):\n",
    "\n",
    "    total_salary = base_salary * (1 + bonus_rate)\n",
    "    \n",
    "    return total_salary\n",
    "\n",
    "total_salary_list = [calculate_salary(salary) for salary in salary_list ]\n",
    "total_salary_list"
   ]
  },
  {
   "cell_type": "code",
   "execution_count": null,
   "id": "27a90153",
   "metadata": {},
   "outputs": [],
   "source": [
    "# syntax using lambda (for demonstration only, not necessarily the best way of doing this)\n",
    "total_salary_list_lmbd = [(lambda x: x*1.1)(salary) for salary in salary_list]"
   ]
  },
  {
   "cell_type": "code",
   "execution_count": 11,
   "id": "a7ab5a2d",
   "metadata": {},
   "outputs": [
    {
     "data": {
      "text/plain": [
       "[110000.00000000001, 220000.00000000003, 165000.0, 132000.0, 88000.0, 82500.0]"
      ]
     },
     "execution_count": 11,
     "metadata": {},
     "output_type": "execute_result"
    }
   ],
   "source": [
    "total_salary_list_lmbd"
   ]
  },
  {
   "cell_type": "markdown",
   "id": "d5bf0ac1",
   "metadata": {},
   "source": [
    "#### Data filtering example\n",
    "\n",
    "Find jobs that have Python and that are remote"
   ]
  },
  {
   "cell_type": "code",
   "execution_count": 12,
   "id": "83d7a405",
   "metadata": {},
   "outputs": [],
   "source": [
    "jobs_data = [\n",
    "    {'job_title': 'Data Scientist',  'job_skills': ['Python', 'Machine Learning'], 'remote': True},\n",
    "    {'job_title': 'Data Analyst',  'job_skills': ['Excel', 'SQL'], 'remote': False},\n",
    "    {'job_title': 'Machine Learning Engineer', 'job_skills': ['Python', 'TensorFlow', 'Keras'], 'remote': True},\n",
    "    {'job_title': 'Software Developer', 'job_skills': ['Java', 'C++'], 'remote': True},\n",
    "    {'job_title': 'Data Scientist', 'job_skills': ['R', 'Statistics'], 'remote': False}\n",
    "]"
   ]
  },
  {
   "cell_type": "code",
   "execution_count": null,
   "id": "7a91b53a",
   "metadata": {},
   "outputs": [
    {
     "data": {
      "text/plain": [
       "[{'job_title': 'Data Scientist',\n",
       "  'job_skills': ['Python', 'Machine Learning'],\n",
       "  'remote': True},\n",
       " {'job_title': 'Machine Learning Engineer',\n",
       "  'job_skills': ['Python', 'TensorFlow', 'Keras'],\n",
       "  'remote': True},\n",
       " {'job_title': 'Software Developer',\n",
       "  'job_skills': ['Java', 'C++'],\n",
       "  'remote': True}]"
      ]
     },
     "execution_count": 14,
     "metadata": {},
     "output_type": "execute_result"
    }
   ],
   "source": [
    "# find out the remote jobs\n",
    "list(filter(lambda job: job['remote'], jobs_data))"
   ]
  },
  {
   "cell_type": "code",
   "execution_count": 16,
   "id": "36ad436d",
   "metadata": {},
   "outputs": [
    {
     "data": {
      "text/plain": [
       "[{'job_title': 'Data Scientist',\n",
       "  'job_skills': ['Python', 'Machine Learning'],\n",
       "  'remote': True},\n",
       " {'job_title': 'Machine Learning Engineer',\n",
       "  'job_skills': ['Python', 'TensorFlow', 'Keras'],\n",
       "  'remote': True}]"
      ]
     },
     "execution_count": 16,
     "metadata": {},
     "output_type": "execute_result"
    }
   ],
   "source": [
    "list(filter(lambda job: job['remote'] and 'Python' in job['job_skills'] , jobs_data))"
   ]
  },
  {
   "cell_type": "markdown",
   "id": "b9b70323",
   "metadata": {},
   "source": [
    "### Practice"
   ]
  },
  {
   "cell_type": "markdown",
   "id": "3b9bfbe4",
   "metadata": {},
   "source": [
    "Create a lambda function to calculate the average salary from a list of salaries. With salaries set as [95000, 120000, 105000, 90000, 130000]."
   ]
  },
  {
   "cell_type": "code",
   "execution_count": 17,
   "id": "6deaaa1c",
   "metadata": {},
   "outputs": [],
   "source": [
    "salaries = [95000, 120000, 105000, 90000, 130000]\n",
    "\n",
    "def calc_average_salary(salaries):\n",
    "    avg_salary = sum(salaries) / len(salaries)\n",
    "    return avg_salary\n",
    "\n"
   ]
  },
  {
   "cell_type": "code",
   "execution_count": 18,
   "id": "7cafe8a9",
   "metadata": {},
   "outputs": [
    {
     "data": {
      "text/plain": [
       "108000.0"
      ]
     },
     "execution_count": 18,
     "metadata": {},
     "output_type": "execute_result"
    }
   ],
   "source": [
    "calc_average_salary(salaries)"
   ]
  },
  {
   "cell_type": "code",
   "execution_count": 22,
   "id": "bfc9c810",
   "metadata": {},
   "outputs": [],
   "source": [
    "avg_salary_lmbd = lambda salary_list: sum(salary_list)/len(salary_list)"
   ]
  },
  {
   "cell_type": "code",
   "execution_count": 23,
   "id": "a81e4cdc",
   "metadata": {},
   "outputs": [
    {
     "data": {
      "text/plain": [
       "108000.0"
      ]
     },
     "execution_count": 23,
     "metadata": {},
     "output_type": "execute_result"
    }
   ],
   "source": [
    "avg_salary_lmbd(salaries)"
   ]
  },
  {
   "cell_type": "code",
   "execution_count": null,
   "id": "28ea7cb2",
   "metadata": {},
   "outputs": [],
   "source": []
  }
 ],
 "metadata": {
  "kernelspec": {
   "display_name": "base",
   "language": "python",
   "name": "python3"
  },
  "language_info": {
   "codemirror_mode": {
    "name": "ipython",
    "version": 3
   },
   "file_extension": ".py",
   "mimetype": "text/x-python",
   "name": "python",
   "nbconvert_exporter": "python",
   "pygments_lexer": "ipython3",
   "version": "3.11.3"
  }
 },
 "nbformat": 4,
 "nbformat_minor": 5
}
