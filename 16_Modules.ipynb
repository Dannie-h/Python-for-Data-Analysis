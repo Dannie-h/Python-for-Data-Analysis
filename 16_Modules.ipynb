{
 "cells": [
  {
   "cell_type": "markdown",
   "id": "dc39a34b",
   "metadata": {},
   "source": [
    "## What is a Module\n",
    "\n",
    "* Consider a module to be the same as a code library.\n",
    "* It's a file containing a set of functions you want to include.\n",
    "\n",
    "#### Importance\n",
    "\n",
    "Essential for accessing pandas and Matplotlib functionalities, allowing data analysis and visualization."
   ]
  },
  {
   "cell_type": "code",
   "execution_count": 6,
   "id": "0d2e6f65",
   "metadata": {},
   "outputs": [],
   "source": [
    "import mymodule"
   ]
  },
  {
   "cell_type": "markdown",
   "id": "c9fee58c",
   "metadata": {},
   "source": [
    "We can import things like variables (although this is less common and more for demonstration)."
   ]
  },
  {
   "cell_type": "code",
   "execution_count": 7,
   "id": "fb0eaa21",
   "metadata": {},
   "outputs": [
    {
     "data": {
      "text/plain": [
       "['Python', 'SQL', 'Excel']"
      ]
     },
     "execution_count": 7,
     "metadata": {},
     "output_type": "execute_result"
    }
   ],
   "source": [
    "mymodule.skill_list"
   ]
  },
  {
   "cell_type": "markdown",
   "id": "95482605",
   "metadata": {},
   "source": [
    "More importantly we can import functions (and classes)."
   ]
  },
  {
   "cell_type": "markdown",
   "id": "1cbc1ebf",
   "metadata": {},
   "source": [
    "Calling a module's function syntax:</br>\n",
    "module_name.function_name()"
   ]
  },
  {
   "cell_type": "code",
   "execution_count": 8,
   "id": "3de46c2d",
   "metadata": {},
   "outputs": [],
   "source": [
    "import my_module"
   ]
  },
  {
   "cell_type": "code",
   "execution_count": 9,
   "id": "9940368d",
   "metadata": {},
   "outputs": [
    {
     "data": {
      "text/plain": [
       "'Python is my favourite skill!'"
      ]
     },
     "execution_count": 9,
     "metadata": {},
     "output_type": "execute_result"
    }
   ],
   "source": [
    "my_module.skill(\"Python\")"
   ]
  },
  {
   "cell_type": "code",
   "execution_count": 10,
   "id": "066d29f8",
   "metadata": {},
   "outputs": [],
   "source": [
    "import job_analyser"
   ]
  },
  {
   "cell_type": "code",
   "execution_count": 11,
   "id": "5432380f",
   "metadata": {},
   "outputs": [
    {
     "data": {
      "text/plain": [
       "110000.00000000001"
      ]
     },
     "execution_count": 11,
     "metadata": {},
     "output_type": "execute_result"
    }
   ],
   "source": [
    "job_analyser.calculate_salary(100000)"
   ]
  },
  {
   "cell_type": "code",
   "execution_count": 12,
   "id": "51e2929b",
   "metadata": {},
   "outputs": [],
   "source": [
    "# intead of import we can use this syntax to not have to type the entire thing over and over again\n",
    "from job_analyser import calculate_salary"
   ]
  },
  {
   "cell_type": "code",
   "execution_count": 13,
   "id": "d053aab5",
   "metadata": {},
   "outputs": [
    {
     "data": {
      "text/plain": [
       "110000.00000000001"
      ]
     },
     "execution_count": 13,
     "metadata": {},
     "output_type": "execute_result"
    }
   ],
   "source": [
    "calculate_salary(100000)"
   ]
  },
  {
   "cell_type": "code",
   "execution_count": 1,
   "id": "199f293b",
   "metadata": {},
   "outputs": [],
   "source": [
    "# you can import more functions at the same time\n",
    "from job_analyser import calculate_salary, calculate_bonus"
   ]
  },
  {
   "cell_type": "code",
   "execution_count": 3,
   "id": "f6829bf9",
   "metadata": {},
   "outputs": [
    {
     "data": {
      "text/plain": [
       "0.1"
      ]
     },
     "execution_count": 3,
     "metadata": {},
     "output_type": "execute_result"
    }
   ],
   "source": [
    "calculate_bonus(110000, 100000)"
   ]
  },
  {
   "cell_type": "code",
   "execution_count": 1,
   "id": "d967d8c7",
   "metadata": {},
   "outputs": [],
   "source": [
    "#if you have a lot of functions you can use this:\n",
    "from job_analyser import *"
   ]
  },
  {
   "cell_type": "code",
   "execution_count": 2,
   "id": "dbb0b7ba",
   "metadata": {},
   "outputs": [
    {
     "name": "stdout",
     "output_type": "stream",
     "text": [
      "Help on function calculate_salary in module job_analyser:\n",
      "\n",
      "calculate_salary(base_salary, bonus_rate=0.1)\n",
      "    Calculate the total salary based on the base salary and bonus rate.\n",
      "    \n",
      "    Args:\n",
      "      base_salary (float): The base salary.\n",
      "      bonus_rate (float): The bonus rate. Default is .1.\n",
      "    \n",
      "    Returns:\n",
      "      float: The total salary.\n",
      "\n"
     ]
    }
   ],
   "source": [
    "help(calculate_salary)"
   ]
  },
  {
   "cell_type": "markdown",
   "id": "d15f4f18",
   "metadata": {},
   "source": [
    "### Python has its own modules that can be imported"
   ]
  },
  {
   "cell_type": "code",
   "execution_count": 1,
   "id": "b40f3461",
   "metadata": {},
   "outputs": [],
   "source": [
    "salary_list = [98000, 101000, 102000, 99000, 97000]\n",
    "\n",
    "# Importing statistics module\n",
    "\n",
    "import statistics"
   ]
  },
  {
   "cell_type": "code",
   "execution_count": 2,
   "id": "d4ee397e",
   "metadata": {},
   "outputs": [
    {
     "data": {
      "text/plain": [
       "99400"
      ]
     },
     "execution_count": 2,
     "metadata": {},
     "output_type": "execute_result"
    }
   ],
   "source": [
    "statistics.mean(salary_list)"
   ]
  },
  {
   "cell_type": "code",
   "execution_count": 3,
   "id": "f154a899",
   "metadata": {},
   "outputs": [],
   "source": [
    "# easier\n",
    "from statistics import mean, mode, median"
   ]
  },
  {
   "cell_type": "code",
   "execution_count": 4,
   "id": "a6a90ee6",
   "metadata": {},
   "outputs": [
    {
     "data": {
      "text/plain": [
       "99400"
      ]
     },
     "execution_count": 4,
     "metadata": {},
     "output_type": "execute_result"
    }
   ],
   "source": [
    "mean(salary_list)\n"
   ]
  },
  {
   "cell_type": "code",
   "execution_count": 5,
   "id": "5a7033c8",
   "metadata": {},
   "outputs": [
    {
     "data": {
      "text/plain": [
       "98000"
      ]
     },
     "execution_count": 5,
     "metadata": {},
     "output_type": "execute_result"
    }
   ],
   "source": [
    "mode(salary_list)"
   ]
  },
  {
   "cell_type": "code",
   "execution_count": 6,
   "id": "af0343a0",
   "metadata": {},
   "outputs": [
    {
     "data": {
      "text/plain": [
       "99000"
      ]
     },
     "execution_count": 6,
     "metadata": {},
     "output_type": "execute_result"
    }
   ],
   "source": [
    "median(salary_list)"
   ]
  },
  {
   "cell_type": "markdown",
   "id": "ade7e7fc",
   "metadata": {},
   "source": [
    "### Practice"
   ]
  },
  {
   "cell_type": "markdown",
   "id": "c5835367",
   "metadata": {},
   "source": [
    "Create a module named salary_calculator with a function calculate_annual_salary that takes an hourly wage and hours per week, and returns the annual salary. Import this module and use the function to calculate the annual salary for an hourly wage of $50 and 40 hours per week."
   ]
  },
  {
   "cell_type": "code",
   "execution_count": 7,
   "id": "1970e3ea",
   "metadata": {},
   "outputs": [],
   "source": [
    "import salary_calculator"
   ]
  },
  {
   "cell_type": "code",
   "execution_count": 8,
   "id": "58cb4e3f",
   "metadata": {},
   "outputs": [
    {
     "data": {
      "text/plain": [
       "104000"
      ]
     },
     "execution_count": 8,
     "metadata": {},
     "output_type": "execute_result"
    }
   ],
   "source": [
    "salary_calculator.calculate_annual_salary(50, 40)"
   ]
  },
  {
   "cell_type": "markdown",
   "id": "5241b8a1",
   "metadata": {},
   "source": [
    "Create a module named job_filter with a function filter_by_location that takes a list of job postings and a location and returns a list of job postings in that location. Import this module and use the function to filter job postings in 'New York'. Use the variable of job_postings shown below."
   ]
  },
  {
   "cell_type": "code",
   "execution_count": 9,
   "id": "09b055af",
   "metadata": {},
   "outputs": [],
   "source": [
    "job_postings = [\n",
    "    {'title': 'Data Scientist', 'location': 'New York'},\n",
    "    {'title': 'Data Analyst', 'location': 'San Francisco'},\n",
    "    {'title': 'Machine Learning Engineer', 'location': 'New York'}\n",
    "]"
   ]
  },
  {
   "cell_type": "code",
   "execution_count": 18,
   "id": "2045d19e",
   "metadata": {},
   "outputs": [],
   "source": [
    "import job_filter"
   ]
  },
  {
   "cell_type": "code",
   "execution_count": 19,
   "id": "999d74ad",
   "metadata": {},
   "outputs": [
    {
     "data": {
      "text/plain": [
       "[{'title': 'Data Scientist', 'location': 'New York'},\n",
       " {'title': 'Machine Learning Engineer', 'location': 'New York'}]"
      ]
     },
     "execution_count": 19,
     "metadata": {},
     "output_type": "execute_result"
    }
   ],
   "source": [
    "job_filter.filter_by_location(job_postings, \"New York\")"
   ]
  },
  {
   "cell_type": "code",
   "execution_count": null,
   "id": "850b7f07",
   "metadata": {},
   "outputs": [],
   "source": []
  }
 ],
 "metadata": {
  "kernelspec": {
   "display_name": "base",
   "language": "python",
   "name": "python3"
  },
  "language_info": {
   "codemirror_mode": {
    "name": "ipython",
    "version": 3
   },
   "file_extension": ".py",
   "mimetype": "text/x-python",
   "name": "python",
   "nbconvert_exporter": "python",
   "pygments_lexer": "ipython3",
   "version": "3.11.3"
  }
 },
 "nbformat": 4,
 "nbformat_minor": 5
}
