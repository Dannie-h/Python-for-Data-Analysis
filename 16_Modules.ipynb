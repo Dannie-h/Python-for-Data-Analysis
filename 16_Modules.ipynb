{
 "cells": [
  {
   "cell_type": "markdown",
   "id": "dc39a34b",
   "metadata": {},
   "source": [
    "## What is a Module\n",
    "\n",
    "* Consider a module to be the same as a code library.\n",
    "* It's a file containing a set of functions you want to include.\n",
    "\n",
    "#### Importance\n",
    "\n",
    "Essential for accessing pandas and Matplotlib functionalities, allowing data analysis and visualization."
   ]
  },
  {
   "cell_type": "code",
   "execution_count": 6,
   "id": "0d2e6f65",
   "metadata": {},
   "outputs": [],
   "source": [
    "import mymodule"
   ]
  },
  {
   "cell_type": "markdown",
   "id": "c9fee58c",
   "metadata": {},
   "source": [
    "We can import things like variables (although this is less common and more for demonstration)."
   ]
  },
  {
   "cell_type": "code",
   "execution_count": 7,
   "id": "fb0eaa21",
   "metadata": {},
   "outputs": [
    {
     "data": {
      "text/plain": [
       "['Python', 'SQL', 'Excel']"
      ]
     },
     "execution_count": 7,
     "metadata": {},
     "output_type": "execute_result"
    }
   ],
   "source": [
    "mymodule.skill_list"
   ]
  },
  {
   "cell_type": "markdown",
   "id": "95482605",
   "metadata": {},
   "source": [
    "More importantly we can import functions (and classes)."
   ]
  },
  {
   "cell_type": "markdown",
   "id": "1cbc1ebf",
   "metadata": {},
   "source": [
    "Calling a module's function syntax:</br>\n",
    "module_name.function_name()"
   ]
  },
  {
   "cell_type": "code",
   "execution_count": 8,
   "id": "3de46c2d",
   "metadata": {},
   "outputs": [],
   "source": [
    "import my_module"
   ]
  },
  {
   "cell_type": "code",
   "execution_count": 9,
   "id": "9940368d",
   "metadata": {},
   "outputs": [
    {
     "data": {
      "text/plain": [
       "'Python is my favourite skill!'"
      ]
     },
     "execution_count": 9,
     "metadata": {},
     "output_type": "execute_result"
    }
   ],
   "source": [
    "my_module.skill(\"Python\")"
   ]
  },
  {
   "cell_type": "code",
   "execution_count": 10,
   "id": "066d29f8",
   "metadata": {},
   "outputs": [],
   "source": [
    "import job_analyser"
   ]
  },
  {
   "cell_type": "code",
   "execution_count": 11,
   "id": "5432380f",
   "metadata": {},
   "outputs": [
    {
     "data": {
      "text/plain": [
       "110000.00000000001"
      ]
     },
     "execution_count": 11,
     "metadata": {},
     "output_type": "execute_result"
    }
   ],
   "source": [
    "job_analyser.calculate_salary(100000)"
   ]
  },
  {
   "cell_type": "code",
   "execution_count": 12,
   "id": "51e2929b",
   "metadata": {},
   "outputs": [],
   "source": [
    "# intead of import we can use this syntax to not have to type the entire thing over and over again\n",
    "from job_analyser import calculate_salary"
   ]
  },
  {
   "cell_type": "code",
   "execution_count": 13,
   "id": "d053aab5",
   "metadata": {},
   "outputs": [
    {
     "data": {
      "text/plain": [
       "110000.00000000001"
      ]
     },
     "execution_count": 13,
     "metadata": {},
     "output_type": "execute_result"
    }
   ],
   "source": [
    "calculate_salary(100000)"
   ]
  },
  {
   "cell_type": "code",
   "execution_count": 1,
   "id": "199f293b",
   "metadata": {},
   "outputs": [],
   "source": [
    "# you can import more functions at the same time\n",
    "from job_analyser import calculate_salary, calculate_bonus"
   ]
  },
  {
   "cell_type": "code",
   "execution_count": 3,
   "id": "f6829bf9",
   "metadata": {},
   "outputs": [
    {
     "data": {
      "text/plain": [
       "0.1"
      ]
     },
     "execution_count": 3,
     "metadata": {},
     "output_type": "execute_result"
    }
   ],
   "source": [
    "calculate_bonus(110000, 100000)"
   ]
  },
  {
   "cell_type": "code",
   "execution_count": 1,
   "id": "d967d8c7",
   "metadata": {},
   "outputs": [],
   "source": [
    "#if you have a lot of functions you can use this:\n",
    "from job_analyser import *"
   ]
  },
  {
   "cell_type": "code",
   "execution_count": 2,
   "id": "dbb0b7ba",
   "metadata": {},
   "outputs": [
    {
     "name": "stdout",
     "output_type": "stream",
     "text": [
      "Help on function calculate_salary in module job_analyser:\n",
      "\n",
      "calculate_salary(base_salary, bonus_rate=0.1)\n",
      "    Calculate the total salary based on the base salary and bonus rate.\n",
      "    \n",
      "    Args:\n",
      "      base_salary (float): The base salary.\n",
      "      bonus_rate (float): The bonus rate. Default is .1.\n",
      "    \n",
      "    Returns:\n",
      "      float: The total salary.\n",
      "\n"
     ]
    }
   ],
   "source": [
    "help(calculate_salary)"
   ]
  },
  {
   "cell_type": "code",
   "execution_count": null,
   "id": "d15f4f18",
   "metadata": {},
   "outputs": [],
   "source": []
  }
 ],
 "metadata": {
  "kernelspec": {
   "display_name": "base",
   "language": "python",
   "name": "python3"
  },
  "language_info": {
   "codemirror_mode": {
    "name": "ipython",
    "version": 3
   },
   "file_extension": ".py",
   "mimetype": "text/x-python",
   "name": "python",
   "nbconvert_exporter": "python",
   "pygments_lexer": "ipython3",
   "version": "3.11.3"
  }
 },
 "nbformat": 4,
 "nbformat_minor": 5
}
