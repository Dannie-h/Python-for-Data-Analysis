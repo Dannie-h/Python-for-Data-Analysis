{
 "cells": [
  {
   "cell_type": "markdown",
   "id": "f6827134",
   "metadata": {},
   "source": [
    "### List comprehension\n",
    "- combines lists and loops"
   ]
  },
  {
   "cell_type": "code",
   "execution_count": 2,
   "id": "e2e6c7f3",
   "metadata": {},
   "outputs": [],
   "source": [
    "numbers = [x for x in range(100)]"
   ]
  },
  {
   "cell_type": "code",
   "execution_count": 3,
   "id": "8cc24652",
   "metadata": {},
   "outputs": [
    {
     "data": {
      "text/plain": [
       "[0,\n",
       " 1,\n",
       " 2,\n",
       " 3,\n",
       " 4,\n",
       " 5,\n",
       " 6,\n",
       " 7,\n",
       " 8,\n",
       " 9,\n",
       " 10,\n",
       " 11,\n",
       " 12,\n",
       " 13,\n",
       " 14,\n",
       " 15,\n",
       " 16,\n",
       " 17,\n",
       " 18,\n",
       " 19,\n",
       " 20,\n",
       " 21,\n",
       " 22,\n",
       " 23,\n",
       " 24,\n",
       " 25,\n",
       " 26,\n",
       " 27,\n",
       " 28,\n",
       " 29,\n",
       " 30,\n",
       " 31,\n",
       " 32,\n",
       " 33,\n",
       " 34,\n",
       " 35,\n",
       " 36,\n",
       " 37,\n",
       " 38,\n",
       " 39,\n",
       " 40,\n",
       " 41,\n",
       " 42,\n",
       " 43,\n",
       " 44,\n",
       " 45,\n",
       " 46,\n",
       " 47,\n",
       " 48,\n",
       " 49,\n",
       " 50,\n",
       " 51,\n",
       " 52,\n",
       " 53,\n",
       " 54,\n",
       " 55,\n",
       " 56,\n",
       " 57,\n",
       " 58,\n",
       " 59,\n",
       " 60,\n",
       " 61,\n",
       " 62,\n",
       " 63,\n",
       " 64,\n",
       " 65,\n",
       " 66,\n",
       " 67,\n",
       " 68,\n",
       " 69,\n",
       " 70,\n",
       " 71,\n",
       " 72,\n",
       " 73,\n",
       " 74,\n",
       " 75,\n",
       " 76,\n",
       " 77,\n",
       " 78,\n",
       " 79,\n",
       " 80,\n",
       " 81,\n",
       " 82,\n",
       " 83,\n",
       " 84,\n",
       " 85,\n",
       " 86,\n",
       " 87,\n",
       " 88,\n",
       " 89,\n",
       " 90,\n",
       " 91,\n",
       " 92,\n",
       " 93,\n",
       " 94,\n",
       " 95,\n",
       " 96,\n",
       " 97,\n",
       " 98,\n",
       " 99]"
      ]
     },
     "execution_count": 3,
     "metadata": {},
     "output_type": "execute_result"
    }
   ],
   "source": [
    "numbers"
   ]
  },
  {
   "cell_type": "code",
   "execution_count": 4,
   "id": "f00a8b59",
   "metadata": {},
   "outputs": [
    {
     "name": "stdout",
     "output_type": "stream",
     "text": [
      "[0, 1, 2, 3, 4, 5, 6, 7, 8, 9, 10, 11, 12, 13, 14, 15, 16, 17, 18, 19, 20, 21, 22, 23, 24, 25, 26, 27, 28, 29, 30, 31, 32, 33, 34, 35, 36, 37, 38, 39, 40, 41, 42, 43, 44, 45, 46, 47, 48, 49, 50, 51, 52, 53, 54, 55, 56, 57, 58, 59, 60, 61, 62, 63, 64, 65, 66, 67, 68, 69, 70, 71, 72, 73, 74, 75, 76, 77, 78, 79, 80, 81, 82, 83, 84, 85, 86, 87, 88, 89, 90, 91, 92, 93, 94, 95, 96, 97, 98, 99]\n"
     ]
    }
   ],
   "source": [
    "# how we would have done it with the previous knowledge we alraedy have\n",
    "numbers = []\n",
    "\n",
    "for number in range(100):\n",
    "    numbers.append(number)\n",
    "print(numbers)\n"
   ]
  },
  {
   "cell_type": "markdown",
   "id": "74c661b9",
   "metadata": {},
   "source": [
    "#### Notes\n",
    "\n",
    "* A way way to create a new list (with shorter syntax) based on the values of an existing list.\n",
    "\n",
    "Not limited to only `list` comprehension: \n",
    "- `set` comprehension\n",
    "- `tuple` comprehension\n",
    "- `dictionary` comprehension\n",
    "\n",
    "#### Importance\n",
    "\n",
    "Provide a concise way to create lists. Useful for data manipulation and filtering in pandas."
   ]
  },
  {
   "cell_type": "code",
   "execution_count": 3,
   "id": "f620993a",
   "metadata": {},
   "outputs": [
    {
     "name": "stdout",
     "output_type": "stream",
     "text": [
      "['P', 'Y', 'T', 'H', 'O', 'N']\n"
     ]
    }
   ],
   "source": [
    "letters = [letter for letter in 'PYTHON']\n",
    "print(letters)"
   ]
  },
  {
   "cell_type": "markdown",
   "id": "0c5d2b62",
   "metadata": {},
   "source": [
    "### Practice"
   ]
  },
  {
   "cell_type": "markdown",
   "id": "95d6a6e8",
   "metadata": {},
   "source": [
    "1. ✅ Squares of Numbers\n",
    "You have a list of numbers:\n",
    "\n",
    "\n",
    "numbers = [1, 2, 3, 4, 5]</br>\n",
    "👉 Create a new list with the squares of each number using a list comprehension.\n",
    "\n",
    "Output: [1, 4, 9, 16, 25]"
   ]
  },
  {
   "cell_type": "code",
   "execution_count": 5,
   "id": "722e3022",
   "metadata": {},
   "outputs": [
    {
     "name": "stdout",
     "output_type": "stream",
     "text": [
      "[1, 4, 9, 16, 25]\n"
     ]
    }
   ],
   "source": [
    "numbers = [1, 2, 3, 4, 5]\n",
    "numbers_squared = [num**2 for num in numbers]\n",
    "print(numbers_squared)"
   ]
  },
  {
   "cell_type": "markdown",
   "id": "53615689",
   "metadata": {},
   "source": [
    "2. ✅ Filter Even Numbers\n",
    "From this list:\n",
    "\n",
    "\n",
    "nums = [10, 15, 22, 33, 40]</br>\n",
    "👉 Use a list comprehension to create a new list of even numbers only.\n",
    "\n",
    "Output: [10, 22, 40]\n",
    "\n"
   ]
  },
  {
   "cell_type": "code",
   "execution_count": 7,
   "id": "9cd62b03",
   "metadata": {},
   "outputs": [
    {
     "name": "stdout",
     "output_type": "stream",
     "text": [
      "[10, 22, 40]\n"
     ]
    }
   ],
   "source": [
    "nums = [10, 15, 22, 33, 40]\n",
    "\n",
    "even_nums = [num for num in nums if num % 2 == 0]\n",
    "print(even_nums)"
   ]
  },
  {
   "cell_type": "markdown",
   "id": "47f65882",
   "metadata": {},
   "source": [
    "3. ✅ Convert to Uppercase\n",
    "Given:\n",
    "\n",
    "words = [\"hello\", \"world\", \"python\"] </br>\n",
    "👉 Create a new list where each word is in UPPERCASE.\n",
    "\n",
    "Output: ['HELLO', 'WORLD', 'PYTHON']"
   ]
  },
  {
   "cell_type": "code",
   "execution_count": 8,
   "id": "c18fe353",
   "metadata": {},
   "outputs": [
    {
     "name": "stdout",
     "output_type": "stream",
     "text": [
      "['HELLO', 'WORLD', 'PYTHON']\n"
     ]
    }
   ],
   "source": [
    "words = ['hello', 'world', 'python']\n",
    "\n",
    "uppercase_words = [word.upper() for word in words]\n",
    "print(uppercase_words)"
   ]
  },
  {
   "cell_type": "markdown",
   "id": "8490d397",
   "metadata": {},
   "source": [
    "4. ✅ First Letters Only\n",
    "You have:\n",
    "\n",
    "names = [\"Alice\", \"Bob\", \"Charlie\", \"Diana\"]</br>\n",
    "👉 Create a list of just the first letter of each name.\n",
    "\n",
    "Output: ['A', 'B', 'C', 'D']"
   ]
  },
  {
   "cell_type": "code",
   "execution_count": 9,
   "id": "1daaf3b6",
   "metadata": {},
   "outputs": [
    {
     "name": "stdout",
     "output_type": "stream",
     "text": [
      "['A', 'B', 'C', 'D']\n"
     ]
    }
   ],
   "source": [
    "names = [\"Alice\", \"Bob\", \"Charlie\", \"Diana\"]\n",
    "\n",
    "first_letter = [name[0] for name in names]\n",
    "print(first_letter)"
   ]
  },
  {
   "cell_type": "markdown",
   "id": "14b3eaa1",
   "metadata": {},
   "source": [
    "5. ✅ Double If Odd\n",
    "Given:\n",
    "\n",
    "nums = [1, 2, 3, 4, 5]</br>\n",
    "👉 Use a list comprehension to double only the odd numbers.\n",
    "\n",
    "Output: [2, 6, 10]\n",
    "\n",
    "(Hint: use if num % 2 != 0 inside the list comp)"
   ]
  },
  {
   "cell_type": "code",
   "execution_count": 10,
   "id": "ca30641c",
   "metadata": {},
   "outputs": [
    {
     "name": "stdout",
     "output_type": "stream",
     "text": [
      "[2, 6, 10]\n"
     ]
    }
   ],
   "source": [
    "nums = [1, 2, 3, 4, 5]\n",
    "\n",
    "double_if_odd = [num * 2 for num in nums if num % 2 != 0]\n",
    "print(double_if_odd)"
   ]
  },
  {
   "cell_type": "code",
   "execution_count": null,
   "id": "b55ab556",
   "metadata": {},
   "outputs": [],
   "source": []
  }
 ],
 "metadata": {
  "kernelspec": {
   "display_name": "base",
   "language": "python",
   "name": "python3"
  },
  "language_info": {
   "codemirror_mode": {
    "name": "ipython",
    "version": 3
   },
   "file_extension": ".py",
   "mimetype": "text/x-python",
   "name": "python",
   "nbconvert_exporter": "python",
   "pygments_lexer": "ipython3",
   "version": "3.11.3"
  }
 },
 "nbformat": 4,
 "nbformat_minor": 5
}
