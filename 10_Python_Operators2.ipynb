{
 "cells": [
  {
   "cell_type": "markdown",
   "id": "71a160de",
   "metadata": {},
   "source": [
    "#### Logical Operators"
   ]
  },
  {
   "cell_type": "code",
   "execution_count": 2,
   "id": "9bab3903",
   "metadata": {},
   "outputs": [],
   "source": [
    "job_work_from_home = True\n",
    "job_health_insurance = True"
   ]
  },
  {
   "cell_type": "code",
   "execution_count": 3,
   "id": "549f71e9",
   "metadata": {},
   "outputs": [
    {
     "data": {
      "text/plain": [
       "True"
      ]
     },
     "execution_count": 3,
     "metadata": {},
     "output_type": "execute_result"
    }
   ],
   "source": [
    "job_work_from_home and job_health_insurance"
   ]
  },
  {
   "cell_type": "code",
   "execution_count": 4,
   "id": "bf3a9659",
   "metadata": {},
   "outputs": [],
   "source": [
    "job_work_from_home = True\n",
    "job_health_insurance = False"
   ]
  },
  {
   "cell_type": "code",
   "execution_count": 5,
   "id": "2ec9a78c",
   "metadata": {},
   "outputs": [
    {
     "data": {
      "text/plain": [
       "False"
      ]
     },
     "execution_count": 5,
     "metadata": {},
     "output_type": "execute_result"
    }
   ],
   "source": [
    "job_work_from_home and job_health_insurance"
   ]
  },
  {
   "cell_type": "code",
   "execution_count": 6,
   "id": "0904e23d",
   "metadata": {},
   "outputs": [
    {
     "data": {
      "text/plain": [
       "True"
      ]
     },
     "execution_count": 6,
     "metadata": {},
     "output_type": "execute_result"
    }
   ],
   "source": [
    "job_health_insurance or job_work_from_home"
   ]
  },
  {
   "cell_type": "code",
   "execution_count": 7,
   "id": "93806c58",
   "metadata": {},
   "outputs": [
    {
     "data": {
      "text/plain": [
       "False"
      ]
     },
     "execution_count": 7,
     "metadata": {},
     "output_type": "execute_result"
    }
   ],
   "source": [
    "not True"
   ]
  },
  {
   "cell_type": "code",
   "execution_count": 9,
   "id": "a8ebfb5e",
   "metadata": {},
   "outputs": [
    {
     "name": "stdout",
     "output_type": "stream",
     "text": [
      "Not good\n"
     ]
    }
   ],
   "source": [
    "if job_work_from_home and job_health_insurance:\n",
    "    print('Meets condiion')\n",
    "else: \n",
    "    print('Not good')"
   ]
  },
  {
   "cell_type": "markdown",
   "id": "39fc63c5",
   "metadata": {},
   "source": [
    "### Membership Operators \n",
    "- in\n",
    "- not in"
   ]
  },
  {
   "cell_type": "code",
   "execution_count": 10,
   "id": "3d069daa",
   "metadata": {},
   "outputs": [
    {
     "data": {
      "text/plain": [
       "True"
      ]
     },
     "execution_count": 10,
     "metadata": {},
     "output_type": "execute_result"
    }
   ],
   "source": [
    "'Data' in 'Data Nerd'"
   ]
  },
  {
   "cell_type": "code",
   "execution_count": 11,
   "id": "8fa295c2",
   "metadata": {},
   "outputs": [
    {
     "data": {
      "text/plain": [
       "False"
      ]
     },
     "execution_count": 11,
     "metadata": {},
     "output_type": "execute_result"
    }
   ],
   "source": [
    "#case sensitive\n",
    "'data' in 'Data Nerd'"
   ]
  },
  {
   "cell_type": "code",
   "execution_count": 12,
   "id": "914a8b61",
   "metadata": {},
   "outputs": [],
   "source": [
    "job_skills = ['python', 'r', 'sql']"
   ]
  },
  {
   "cell_type": "code",
   "execution_count": 13,
   "id": "855d1938",
   "metadata": {},
   "outputs": [
    {
     "data": {
      "text/plain": [
       "True"
      ]
     },
     "execution_count": 13,
     "metadata": {},
     "output_type": "execute_result"
    }
   ],
   "source": [
    "'python' in job_skills"
   ]
  },
  {
   "cell_type": "code",
   "execution_count": 14,
   "id": "c3885563",
   "metadata": {},
   "outputs": [
    {
     "data": {
      "text/plain": [
       "False"
      ]
     },
     "execution_count": 14,
     "metadata": {},
     "output_type": "execute_result"
    }
   ],
   "source": [
    "'tableau' in job_skills"
   ]
  },
  {
   "cell_type": "code",
   "execution_count": 15,
   "id": "ebc4bcc8",
   "metadata": {},
   "outputs": [
    {
     "data": {
      "text/plain": [
       "False"
      ]
     },
     "execution_count": 15,
     "metadata": {},
     "output_type": "execute_result"
    }
   ],
   "source": [
    "'python' not in job_skills"
   ]
  },
  {
   "cell_type": "markdown",
   "id": "2228fe37",
   "metadata": {},
   "source": [
    "### Identity operators\n",
    "- is\n",
    "- is not\n",
    "\n",
    "The is operator is verifying if two variables are using the same memory location for the value that they're holding </br>\n",
    "\n",
    "Not very used in Data Analytics"
   ]
  },
  {
   "cell_type": "markdown",
   "id": "71680d4f",
   "metadata": {},
   "source": [
    "### Bitwise operators\n",
    "- & (AND)\n",
    "- | (OR)\n",
    "- ^ (XOR)\n",
    "- ~ (NOT)\n",
    "- << (Left Shift)\n",
    "- '>>' (Right Shift)"
   ]
  },
  {
   "cell_type": "markdown",
   "id": "554895b7",
   "metadata": {},
   "source": [
    "### Practice"
   ]
  },
  {
   "cell_type": "markdown",
   "id": "c455362b",
   "metadata": {},
   "source": [
    "Check if the job_title1 of 'Data Engineer' is not the same object as the job_title2 of 'Data Scientist' and print the result."
   ]
  },
  {
   "cell_type": "code",
   "execution_count": 17,
   "id": "86f3ae46",
   "metadata": {},
   "outputs": [],
   "source": [
    "job_title1 = 'Data Engineer'\n",
    "job_title2 = 'Data Scientist'"
   ]
  },
  {
   "cell_type": "code",
   "execution_count": 19,
   "id": "cb4ab7c1",
   "metadata": {},
   "outputs": [
    {
     "name": "stdout",
     "output_type": "stream",
     "text": [
      "True\n"
     ]
    }
   ],
   "source": [
    "print(job_title1 is not job_title2)"
   ]
  },
  {
   "cell_type": "markdown",
   "id": "522f0d05",
   "metadata": {},
   "source": [
    "Determine if the job location 'New York' is in the list of job_locations ['New York', 'San Francisco', 'Austin'] and print the result."
   ]
  },
  {
   "cell_type": "code",
   "execution_count": 20,
   "id": "1aecd5d2",
   "metadata": {},
   "outputs": [],
   "source": [
    "job_locations = ['New York', 'San Francisco', 'Austin']"
   ]
  },
  {
   "cell_type": "code",
   "execution_count": 21,
   "id": "da537eb6",
   "metadata": {},
   "outputs": [
    {
     "name": "stdout",
     "output_type": "stream",
     "text": [
      "True\n"
     ]
    }
   ],
   "source": [
    "print('New York' in job_locations)"
   ]
  },
  {
   "cell_type": "markdown",
   "id": "e1be2d1b",
   "metadata": {},
   "source": [
    "Check if the job_title 'Data Analyst' is not in the job_description string 'Data Scientist at Tech Corp' and print the result."
   ]
  },
  {
   "cell_type": "code",
   "execution_count": 22,
   "id": "99189e16",
   "metadata": {},
   "outputs": [],
   "source": [
    "job_title = 'Data Analyst'\n",
    "job_description = 'Data Scientist at Tech Corp'"
   ]
  },
  {
   "cell_type": "code",
   "execution_count": 23,
   "id": "2dd2e2a7",
   "metadata": {},
   "outputs": [
    {
     "name": "stdout",
     "output_type": "stream",
     "text": [
      "True\n"
     ]
    }
   ],
   "source": [
    "print(job_title not in job_description)"
   ]
  },
  {
   "cell_type": "markdown",
   "id": "35c8114d",
   "metadata": {},
   "source": [
    "Check if both 'Data Scientist' and 'Machine Learning Engineer' are in the list of job titles ['Data Scientist', 'Data Analyst', 'Machine Learning Engineer'] and print the result."
   ]
  },
  {
   "cell_type": "code",
   "execution_count": 24,
   "id": "ecc7dd23",
   "metadata": {},
   "outputs": [],
   "source": [
    "job_titles = ['Data Scientist', 'Data Analyst', 'Machine Learning Engineer']"
   ]
  },
  {
   "cell_type": "code",
   "execution_count": 25,
   "id": "d9cf3c9a",
   "metadata": {},
   "outputs": [
    {
     "name": "stdout",
     "output_type": "stream",
     "text": [
      "True\n"
     ]
    }
   ],
   "source": [
    "print('Data Scientist' and 'Machine Learning Engineer' in job_titles)"
   ]
  },
  {
   "cell_type": "markdown",
   "id": "b5274e91",
   "metadata": {},
   "source": [
    "Perform a bitwise OR operation on the binary representations of the salaries 100000 and 50000 and print the result. Named salary1 and salary2 respectively."
   ]
  },
  {
   "cell_type": "code",
   "execution_count": 26,
   "id": "a7443a72",
   "metadata": {},
   "outputs": [],
   "source": [
    "salary1 = 100000\n",
    "salary2 = 50000"
   ]
  },
  {
   "cell_type": "code",
   "execution_count": 27,
   "id": "a9fe1733",
   "metadata": {},
   "outputs": [
    {
     "name": "stdout",
     "output_type": "stream",
     "text": [
      "116720\n"
     ]
    }
   ],
   "source": [
    "print(salary1 | salary2)"
   ]
  },
  {
   "cell_type": "code",
   "execution_count": null,
   "id": "6a2ede8c",
   "metadata": {},
   "outputs": [],
   "source": []
  }
 ],
 "metadata": {
  "kernelspec": {
   "display_name": "base",
   "language": "python",
   "name": "python3"
  },
  "language_info": {
   "codemirror_mode": {
    "name": "ipython",
    "version": 3
   },
   "file_extension": ".py",
   "mimetype": "text/x-python",
   "name": "python",
   "nbconvert_exporter": "python",
   "pygments_lexer": "ipython3",
   "version": "3.11.3"
  }
 },
 "nbformat": 4,
 "nbformat_minor": 5
}
