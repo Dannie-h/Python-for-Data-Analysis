{
 "cells": [
  {
   "cell_type": "markdown",
   "id": "580a1606",
   "metadata": {},
   "source": [
    "### Loops\n",
    "- for loops\n",
    "- while loops\n",
    "\n",
    "#### Importance\n",
    "\n",
    "Crucial for automating repetitive tasks, like data processing in pandas or creating multiple plots in Matplotlib."
   ]
  },
  {
   "cell_type": "markdown",
   "id": "b092a6fb",
   "metadata": {},
   "source": [
    "A for loops iterates over an iterable object"
   ]
  },
  {
   "cell_type": "code",
   "execution_count": 1,
   "id": "378a3e9b",
   "metadata": {},
   "outputs": [
    {
     "name": "stdout",
     "output_type": "stream",
     "text": [
      "0\n",
      "1\n",
      "2\n",
      "3\n",
      "4\n",
      "5\n"
     ]
    }
   ],
   "source": [
    "numbers = [0, 1, 2, 3, 4, 5]\n",
    "\n",
    "for number in numbers:\n",
    "    print(number)"
   ]
  },
  {
   "cell_type": "code",
   "execution_count": 2,
   "id": "ba02a00e",
   "metadata": {},
   "outputs": [
    {
     "name": "stdout",
     "output_type": "stream",
     "text": [
      "P\n",
      "Y\n",
      "T\n",
      "H\n",
      "O\n",
      "N\n"
     ]
    }
   ],
   "source": [
    "characters = 'PYTHON'\n",
    "\n",
    "for character in characters:\n",
    "    print(character)"
   ]
  },
  {
   "cell_type": "code",
   "execution_count": 3,
   "id": "65095951",
   "metadata": {},
   "outputs": [],
   "source": [
    "years_experience = {\n",
    "    'Luke': 3,\n",
    "    'Kelly': 6,\n",
    "    'Ken': 4,\n",
    "    'Alex': 3\n",
    "}\n",
    "# we want to hire somebody with more than 5 years of experience"
   ]
  },
  {
   "cell_type": "code",
   "execution_count": null,
   "id": "da8be011",
   "metadata": {},
   "outputs": [
    {
     "name": "stdout",
     "output_type": "stream",
     "text": [
      "Luke\n",
      "Kelly\n",
      "Ken\n",
      "Alex\n"
     ]
    }
   ],
   "source": [
    "for person in years_experience:\n",
    "    print(person)"
   ]
  },
  {
   "cell_type": "code",
   "execution_count": 7,
   "id": "443153f5",
   "metadata": {},
   "outputs": [
    {
     "name": "stdout",
     "output_type": "stream",
     "text": [
      "3\n",
      "6\n",
      "4\n",
      "3\n"
     ]
    }
   ],
   "source": [
    "for value in years_experience.values():\n",
    "    print(value)"
   ]
  },
  {
   "cell_type": "code",
   "execution_count": 8,
   "id": "9a27a671",
   "metadata": {},
   "outputs": [
    {
     "name": "stdout",
     "output_type": "stream",
     "text": [
      "Luke 3\n",
      "Kelly 6\n",
      "Ken 4\n",
      "Alex 3\n"
     ]
    }
   ],
   "source": [
    "for key, value in years_experience.items():\n",
    "    print(key, value)"
   ]
  },
  {
   "cell_type": "code",
   "execution_count": 9,
   "id": "8046a153",
   "metadata": {},
   "outputs": [
    {
     "name": "stdout",
     "output_type": "stream",
     "text": [
      "3\n",
      "6\n",
      "4\n",
      "3\n"
     ]
    }
   ],
   "source": [
    "for key, value in years_experience.items():\n",
    "    print(value)"
   ]
  },
  {
   "cell_type": "code",
   "execution_count": 11,
   "id": "6df069da",
   "metadata": {},
   "outputs": [
    {
     "name": "stdout",
     "output_type": "stream",
     "text": [
      "Kelly has 6 years experience\n"
     ]
    }
   ],
   "source": [
    "for key, value in years_experience.items():\n",
    "    if value >= 5:\n",
    "        print(key, 'has', value, 'years experience')"
   ]
  },
  {
   "cell_type": "markdown",
   "id": "ce56a8f3",
   "metadata": {},
   "source": [
    "A while loop repeats an action until a condition is no longer true."
   ]
  },
  {
   "cell_type": "code",
   "execution_count": 12,
   "id": "fb45166e",
   "metadata": {},
   "outputs": [
    {
     "name": "stdout",
     "output_type": "stream",
     "text": [
      "1\n",
      "2\n",
      "3\n",
      "4\n"
     ]
    }
   ],
   "source": [
    "count = 1\n",
    "while count < 5:\n",
    "    print(count)\n",
    "    count += 1"
   ]
  },
  {
   "cell_type": "code",
   "execution_count": 14,
   "id": "cf578c05",
   "metadata": {},
   "outputs": [],
   "source": [
    "# we want to find an applicant with more than 5 years of experience and stop there. we stop after the first occurence\n",
    "years_experience = {\n",
    "    'Luke': 3,\n",
    "    'Kelly': 6,\n",
    "    'Ken': 4,\n",
    "    'Alex': 3,\n",
    "    'Mary': 7\n",
    "}"
   ]
  },
  {
   "cell_type": "code",
   "execution_count": 15,
   "id": "ebe79d68",
   "metadata": {},
   "outputs": [],
   "source": [
    "years = 0\n",
    "\n",
    "years_list = list(years_experience.items())\n"
   ]
  },
  {
   "cell_type": "code",
   "execution_count": 16,
   "id": "9299e00a",
   "metadata": {},
   "outputs": [
    {
     "data": {
      "text/plain": [
       "[('Luke', 3), ('Kelly', 6), ('Ken', 4), ('Alex', 3), ('Mary', 7)]"
      ]
     },
     "execution_count": 16,
     "metadata": {},
     "output_type": "execute_result"
    }
   ],
   "source": [
    "years_list"
   ]
  },
  {
   "cell_type": "code",
   "execution_count": 19,
   "id": "8ae47cc0",
   "metadata": {},
   "outputs": [
    {
     "name": "stdout",
     "output_type": "stream",
     "text": [
      "Kelly 6\n"
     ]
    }
   ],
   "source": [
    "years = 0\n",
    "index = 0\n",
    "\n",
    "years_list = list(years_experience.items())\n",
    "while years < 5:\n",
    "    key, years = years_list[index]\n",
    "    if years >= 5:\n",
    "        print(key, years)\n",
    "    index += 1"
   ]
  },
  {
   "cell_type": "markdown",
   "id": "eb2a70bb",
   "metadata": {},
   "source": [
    "### Practice"
   ]
  },
  {
   "cell_type": "markdown",
   "id": "eee36ba7",
   "metadata": {},
   "source": [
    "Print the job titles from the list job_titles using a for loop. The list job_titles is set to ['Data Scientist', 'Data Analyst', 'Machine Learning Engineer']."
   ]
  },
  {
   "cell_type": "code",
   "execution_count": 21,
   "id": "0d611a9e",
   "metadata": {},
   "outputs": [
    {
     "name": "stdout",
     "output_type": "stream",
     "text": [
      "Data Scientist\n",
      "Data Analyst\n",
      "Machine Learning Engineer\n"
     ]
    }
   ],
   "source": [
    "job_titles = ['Data Scientist', 'Data Analyst', 'Machine Learning Engineer']\n",
    "\n",
    "for job in job_titles:\n",
    "    print(job)"
   ]
  },
  {
   "cell_type": "markdown",
   "id": "f7142369",
   "metadata": {},
   "source": [
    "Calculate the total number of job postings from a list using a while loop. The list of job postings is [5, 10, 15, 20, 25]."
   ]
  },
  {
   "cell_type": "code",
   "execution_count": 24,
   "id": "47814441",
   "metadata": {},
   "outputs": [
    {
     "name": "stdout",
     "output_type": "stream",
     "text": [
      "75\n"
     ]
    }
   ],
   "source": [
    "job_postings = [5, 10, 15, 20, 25]\n",
    "index = 0\n",
    "total_postings = 0\n",
    "\n",
    "while index < len(job_postings):\n",
    "    total_postings += job_postings[index]\n",
    "    index += 1\n",
    "print(total_postings)"
   ]
  },
  {
   "cell_type": "markdown",
   "id": "2152acb6",
   "metadata": {},
   "source": [
    "Print the job titles from the list job_titles along with their index using a for loop and the enumerate() function. The list job_titles is set to ['Data Scientist', 'Data Analyst', 'Machine Learning Engineer']."
   ]
  },
  {
   "cell_type": "code",
   "execution_count": 29,
   "id": "02d07914",
   "metadata": {},
   "outputs": [
    {
     "name": "stdout",
     "output_type": "stream",
     "text": [
      "0: Data Scientist\n",
      "1: Data Analyst\n",
      "2: Machine Learning Engineer\n"
     ]
    }
   ],
   "source": [
    "job_titles = ['Data Scientist', 'Data Analyst', 'Machine Learning Engineer']\n",
    "\n",
    "for index, title in enumerate(job_titles):\n",
    "    print(f'{index}: {title}')"
   ]
  },
  {
   "cell_type": "markdown",
   "id": "f1676ac1",
   "metadata": {},
   "source": [
    "Use a while loop to find the first job title that contains the word 'Engineer'. The list of job titles is ['Data Scientist', 'Data Analyst', 'Machine Learning Engineer', 'Software Engineer']."
   ]
  },
  {
   "cell_type": "code",
   "execution_count": 31,
   "id": "83de4a77",
   "metadata": {},
   "outputs": [
    {
     "name": "stdout",
     "output_type": "stream",
     "text": [
      "Machine Learning Engineer\n"
     ]
    }
   ],
   "source": [
    "job_titles = ['Data Scientist', 'Data Analyst', 'Machine Learning Engineer', 'Software Engineer']\n",
    "index = 0\n",
    "\n",
    "while index <= len(job_titles):\n",
    "    if 'Engineer' in job_titles[index]:\n",
    "        print(job_titles[index])\n",
    "        break\n",
    "    index +=1"
   ]
  },
  {
   "cell_type": "markdown",
   "id": "e8692217",
   "metadata": {},
   "source": [
    "You have the following dictionary of positions_skills which is set to {'Data Scientist': ['Python', 'R'], 'Data Analyst': ['SQL', 'Excel'], 'Machine Learning Engineer': ['Python', 'TensorFlow']}. The keys are a data science position, and the values are a list of skills required for the position. Print a message for each individual skill required for these data science positions (e.g., \"The role of Data Scientist requires proficiency in Python\")."
   ]
  },
  {
   "cell_type": "code",
   "execution_count": 36,
   "id": "a0842246",
   "metadata": {},
   "outputs": [
    {
     "name": "stdout",
     "output_type": "stream",
     "text": [
      "The role of Data Scientist, requires proficiency in Python\n",
      "The role of Data Scientist, requires proficiency in R\n",
      "The role of Data Analyst, requires proficiency in SQL\n",
      "The role of Data Analyst, requires proficiency in Excel\n",
      "The role of Machine Learning Engineer, requires proficiency in Python\n",
      "The role of Machine Learning Engineer, requires proficiency in TensorFlow\n"
     ]
    }
   ],
   "source": [
    "positions_skills = {\n",
    "    'Data Scientist': ['Python', 'R'],\n",
    "    'Data Analyst': ['SQL', 'Excel'],\n",
    "    'Machine Learning Engineer': ['Python', 'TensorFlow']\n",
    "}\n",
    "\n",
    "for position, skills in positions_skills.items():\n",
    "    for skill in skills:\n",
    "        print(f'The role of {position}, requires proficiency in {skill}')"
   ]
  },
  {
   "cell_type": "markdown",
   "id": "8ab9b3a7",
   "metadata": {},
   "source": [
    "You have the following dictionary:\n",
    "\n",
    "\n",
    "projects_tools = {\n",
    "    \"Website Development\": [\"HTML\", \"CSS\", \"JavaScript\"],\n",
    "    \"Data Pipeline\": [\"Python\", \"Airflow\", \"SQL\"],\n",
    "    \"Mobile App\": [\"Flutter\", \"Dart\"]\n",
    "}\n",
    "Each key is a project, and each value is a list of tools used in that project.\n",
    "\n",
    "👉 Task:\n",
    "Write Python code that prints a sentence for each individual tool used in these projects.\n",
    "Format the message like this:\n",
    "\n",
    "\"The project Website Development uses the tool HTML.\""
   ]
  },
  {
   "cell_type": "code",
   "execution_count": 38,
   "id": "929d8291",
   "metadata": {},
   "outputs": [
    {
     "name": "stdout",
     "output_type": "stream",
     "text": [
      "The project Website Development uses the tool HTML\n",
      "The project Website Development uses the tool CSS\n",
      "The project Website Development uses the tool JavaScript\n",
      "The project Data Pipeline uses the tool Python\n",
      "The project Data Pipeline uses the tool Airflow\n",
      "The project Data Pipeline uses the tool SQL\n",
      "The project Mobile App uses the tool Flutter\n",
      "The project Mobile App uses the tool Dart\n"
     ]
    }
   ],
   "source": [
    "projects_tools = {\n",
    "    \"Website Development\": [\"HTML\", \"CSS\", \"JavaScript\"],\n",
    "    \"Data Pipeline\": [\"Python\", \"Airflow\", \"SQL\"],\n",
    "    \"Mobile App\": [\"Flutter\", \"Dart\"]\n",
    "}\n",
    "\n",
    "for project, tools in projects_tools.items():\n",
    "    for tool in tools:\n",
    "        print(f'The project {project} uses the tool {tool}')"
   ]
  },
  {
   "cell_type": "markdown",
   "id": "4e9a51f7",
   "metadata": {},
   "source": [
    "1. Sum All Numbers\n",
    "You have a list of numbers:\n",
    "\n",
    "numbers = [3, 7, 12, 5, 9]"
   ]
  },
  {
   "cell_type": "code",
   "execution_count": 42,
   "id": "a2bae4e5",
   "metadata": {},
   "outputs": [
    {
     "name": "stdout",
     "output_type": "stream",
     "text": [
      "36\n"
     ]
    }
   ],
   "source": [
    "numbers = [3, 7, 12, 5, 9]\n",
    "total = 0\n",
    "for num in numbers:\n",
    "    total += num\n",
    "print(total)\n",
    " "
   ]
  },
  {
   "cell_type": "markdown",
   "id": "c2c7ac71",
   "metadata": {},
   "source": [
    "2. List of Names - Greeting\n",
    "You have a list of names:\n",
    "\n",
    "names = [\"Alice\", \"Bob\", \"Charlie\", \"Diana\"]"
   ]
  },
  {
   "cell_type": "code",
   "execution_count": 43,
   "id": "b8f78940",
   "metadata": {},
   "outputs": [
    {
     "name": "stdout",
     "output_type": "stream",
     "text": [
      "Hello Alice\n",
      "Hello Bob\n",
      "Hello Charlie\n",
      "Hello Diana\n"
     ]
    }
   ],
   "source": [
    "names = [\"Alice\", \"Bob\", \"Charlie\", \"Diana\"]\n",
    "for name in names:\n",
    "    print(f'Hello {name}')"
   ]
  },
  {
   "cell_type": "markdown",
   "id": "bc59b464",
   "metadata": {},
   "source": [
    "3. Count How Many Times a Letter Appears\n",
    "Given a string:\n",
    "\n",
    "word = \"programming\"\n",
    "👉 Write a for loop to count how many times the letter 'g' appears.\n",
    "\n",
    "(Hint: You’ll need a counter variable that you increment.)"
   ]
  },
  {
   "cell_type": "code",
   "execution_count": 45,
   "id": "e9bcea2d",
   "metadata": {},
   "outputs": [
    {
     "name": "stdout",
     "output_type": "stream",
     "text": [
      "2\n"
     ]
    }
   ],
   "source": [
    "word = 'programming'\n",
    "count = 0\n",
    "\n",
    "for character in word:\n",
    "    if character == 'g':\n",
    "        count += 1\n",
    "print(count)"
   ]
  },
  {
   "cell_type": "markdown",
   "id": "dadb8305",
   "metadata": {},
   "source": [
    "4. Print Even Numbers Only\n",
    "You have a list:\n",
    "\n",
    "nums = [4, 13, 22, 8, 5, 16, 7]\n",
    "👉 Use a for loop to print only the even numbers.\n",
    "\n",
    "(Hint: Even numbers are divisible by 2.)"
   ]
  },
  {
   "cell_type": "code",
   "execution_count": 46,
   "id": "4ad7caff",
   "metadata": {},
   "outputs": [
    {
     "name": "stdout",
     "output_type": "stream",
     "text": [
      "4\n",
      "22\n",
      "8\n",
      "16\n"
     ]
    }
   ],
   "source": [
    "nums = [4, 13, 22, 8, 5, 16, 7]\n",
    "\n",
    "for n in nums:\n",
    "    if n % 2 == 0:\n",
    "        print(n)"
   ]
  },
  {
   "cell_type": "markdown",
   "id": "c3a76b68",
   "metadata": {},
   "source": [
    "5. Nested Loop: Students and Courses\n",
    "You have a dictionary:\n",
    "\n",
    "students_courses = {\n",
    "    \"Emma\": [\"Math\", \"Science\"],\n",
    "    \"Liam\": [\"History\", \"Art\"],\n",
    "    \"Olivia\": [\"Biology\", \"Chemistry\"]\n",
    "}\n",
    "👉 Write nested for loops to print a sentence for each course a student is taking, like:\n",
    "\n",
    "\"Emma is taking Math.\""
   ]
  },
  {
   "cell_type": "code",
   "execution_count": 47,
   "id": "e5621e14",
   "metadata": {},
   "outputs": [
    {
     "name": "stdout",
     "output_type": "stream",
     "text": [
      "Emma is taking Math\n",
      "Emma is taking Science\n",
      "Liam is taking History\n",
      "Liam is taking Art\n",
      "Olivia is taking Biology\n",
      "Olivia is taking Chemistry\n"
     ]
    }
   ],
   "source": [
    "students_courses = {\n",
    "    \"Emma\": [\"Math\", \"Science\"],\n",
    "    \"Liam\": [\"History\", \"Art\"],\n",
    "    \"Olivia\": [\"Biology\", \"Chemistry\"]\n",
    "}\n",
    "\n",
    "for student, courses in students_courses.items():\n",
    "    for course in courses:\n",
    "        print(f'{student} is taking {course}')"
   ]
  },
  {
   "cell_type": "markdown",
   "id": "b12d1bbe",
   "metadata": {},
   "source": [
    "🎯 New Challenge: Group the courses under each student nicely.\n",
    "Instead of printing one line per course,\n",
    "group the courses together for each student like this:\n",
    "\n",
    "Emma is taking the following courses:\n",
    "- Math\n",
    "- Science\n",
    "\n",
    "Liam is taking the following courses:\n",
    "- History\n",
    "- Art\n",
    "\n",
    "Olivia is taking the following courses:\n",
    "- Biology\n",
    "- Chemistry </br>\n",
    "✨ Hint:\n",
    "First, print something like: \"Emma is taking the following courses:\"\n",
    "\n",
    "Then, inside the second loop, print each course with a - in front.\n",
    "\n",
    "After listing all courses for a student, print a blank line (print()) to separate students."
   ]
  },
  {
   "cell_type": "code",
   "execution_count": 51,
   "id": "31984ee1",
   "metadata": {},
   "outputs": [
    {
     "name": "stdout",
     "output_type": "stream",
     "text": [
      "Emma is taking the following courses:\n",
      "- Math\n",
      "- Science\n",
      "\n",
      "Liam is taking the following courses:\n",
      "- History\n",
      "- Art\n",
      "\n",
      "Olivia is taking the following courses:\n",
      "- Biology\n",
      "- Chemistry\n",
      "\n"
     ]
    }
   ],
   "source": [
    "students_courses = {\n",
    "    \"Emma\": [\"Math\", \"Science\"],\n",
    "    \"Liam\": [\"History\", \"Art\"],\n",
    "    \"Olivia\": [\"Biology\", \"Chemistry\"]\n",
    "}\n",
    "\n",
    "for student, courses in students_courses.items():\n",
    "    print(f'{student} is taking the following courses:')\n",
    "    for course in courses:\n",
    "        print(f'- {course}')\n",
    "    print()"
   ]
  },
  {
   "cell_type": "markdown",
   "id": "760d6175",
   "metadata": {},
   "source": [
    "6. Only Print Courses Starting With \"C\"\n",
    "Use the same students_courses dictionary:\n",
    "\n",
    "\n",
    "students_courses = {\n",
    "    \"Emma\": [\"Math\", \"Science\"],\n",
    "    \"Liam\": [\"History\", \"Art\"],\n",
    "    \"Olivia\": [\"Biology\", \"Chemistry\"]\n",
    "}\n",
    "👉 Print only the courses that start with the letter \"C\" for each student.\n",
    "Example output:\n",
    "\n",
    "\n",
    "Olivia is taking Chemistry\n",
    "(Hint: use if course.startswith(\"C\"))"
   ]
  },
  {
   "cell_type": "code",
   "execution_count": 52,
   "id": "0ac98179",
   "metadata": {},
   "outputs": [
    {
     "name": "stdout",
     "output_type": "stream",
     "text": [
      "Olivia is taking Chemistry\n"
     ]
    }
   ],
   "source": [
    "students_courses = {\n",
    "    \"Emma\": [\"Math\", \"Science\"],\n",
    "    \"Liam\": [\"History\", \"Art\"],\n",
    "    \"Olivia\": [\"Biology\", \"Chemistry\"]\n",
    "}\n",
    "\n",
    "for student, courses in students_courses.items():\n",
    "    for course in courses:\n",
    "        if course.startswith('C'):\n",
    "            print(f'{student} is taking {course}')"
   ]
  },
  {
   "cell_type": "markdown",
   "id": "d0f57059",
   "metadata": {},
   "source": [
    "2. Find the Longest Course Name\n",
    "👉 Loop through all the courses and find the course with the longest name (most letters).\n",
    "\n",
    "(Hint: You'll need to keep track of the current \"longest course\" while looping.)\n",
    "\n"
   ]
  },
  {
   "cell_type": "code",
   "execution_count": 60,
   "id": "761457d5",
   "metadata": {},
   "outputs": [
    {
     "name": "stdout",
     "output_type": "stream",
     "text": [
      "Chemistry\n"
     ]
    }
   ],
   "source": [
    "students_courses = {\n",
    "    \"Emma\": [\"Math\", \"Science\"],\n",
    "    \"Liam\": [\"History\", \"Art\"],\n",
    "    \"Olivia\": [\"Biology\", \"Chemistry\"]\n",
    "}\n",
    "\n",
    "longest_course = \"\"\n",
    "\n",
    "for student, courses in students_courses.items():\n",
    "    for course in courses:\n",
    "        if  len(course) > len(longest_course):\n",
    "            longest_course = course\n",
    "print(longest_course)"
   ]
  },
  {
   "cell_type": "code",
   "execution_count": null,
   "id": "f7961196",
   "metadata": {},
   "outputs": [
    {
     "name": "stdout",
     "output_type": "stream",
     "text": [
      "Art\n"
     ]
    }
   ],
   "source": [
    "# find the shortest course\n",
    "\n",
    "students_courses = {\n",
    "    \"Emma\": [\"Math\", \"Science\"],\n",
    "    \"Liam\": [\"History\", \"Art\"],\n",
    "    \"Olivia\": [\"Biology\", \"Chemistry\"]\n",
    "}\n",
    "\n",
    "# shortest_course = '' this will always be the shortest course\n",
    "\n",
    "shortest_course = None #or choose a random course here\n",
    "\n",
    "for student, courses in students_courses.items():\n",
    "    for course in courses:\n",
    "        if shortest_course is None  or len(course) < len(shortest_course):\n",
    "            shortest_course = course\n",
    "print(shortest_course)\n",
    "\n"
   ]
  },
  {
   "cell_type": "code",
   "execution_count": null,
   "id": "6bfd8079",
   "metadata": {},
   "outputs": [],
   "source": []
  }
 ],
 "metadata": {
  "kernelspec": {
   "display_name": "base",
   "language": "python",
   "name": "python3"
  },
  "language_info": {
   "codemirror_mode": {
    "name": "ipython",
    "version": 3
   },
   "file_extension": ".py",
   "mimetype": "text/x-python",
   "name": "python",
   "nbconvert_exporter": "python",
   "pygments_lexer": "ipython3",
   "version": "3.11.3"
  }
 },
 "nbformat": 4,
 "nbformat_minor": 5
}
