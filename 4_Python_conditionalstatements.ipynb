{
 "cells": [
  {
   "cell_type": "code",
   "execution_count": 2,
   "metadata": {},
   "outputs": [
    {
     "name": "stdout",
     "output_type": "stream",
     "text": [
      "What's up data nerds\n"
     ]
    }
   ],
   "source": [
    "if True:\n",
    "    print(\"What's up data nerds\")"
   ]
  },
  {
   "cell_type": "code",
   "execution_count": 3,
   "metadata": {},
   "outputs": [],
   "source": [
    "# Filter out applicants for a job based on a skill\n",
    "\n",
    "#Applicant skill\n",
    "applicant_skill = 'SQL'\n",
    "\n",
    "# Skill required for jop posting\n",
    "job_skill = 'SQL'"
   ]
  },
  {
   "cell_type": "code",
   "execution_count": 4,
   "metadata": {},
   "outputs": [
    {
     "name": "stdout",
     "output_type": "stream",
     "text": [
      "Skills Match\n"
     ]
    }
   ],
   "source": [
    "if job_skill == applicant_skill:\n",
    "    print('Skills Match')\n"
   ]
  },
  {
   "cell_type": "code",
   "execution_count": 6,
   "metadata": {},
   "outputs": [
    {
     "name": "stdout",
     "output_type": "stream",
     "text": [
      "Enough Experience; No SQL\n"
     ]
    }
   ],
   "source": [
    "applicant_skill = 'SQL'\n",
    "job_skill = 'Python'\n",
    "years_experience = 6\n",
    "\n",
    "if job_skill == applicant_skill:\n",
    "    print('Skills Match')\n",
    "elif years_experience >= 5:\n",
    "    print('Enough Experience; No SQL')"
   ]
  },
  {
   "cell_type": "code",
   "execution_count": 7,
   "metadata": {},
   "outputs": [
    {
     "name": "stdout",
     "output_type": "stream",
     "text": [
      "No skill or experience\n"
     ]
    }
   ],
   "source": [
    "applicant_skill = 'SQL'\n",
    "job_skill = 'Python'\n",
    "years_experience = 3\n",
    "\n",
    "if job_skill == applicant_skill:\n",
    "    print('Skills Match')\n",
    "elif years_experience >= 5:\n",
    "    print('Enough Experience; No SQL')\n",
    "else:\n",
    "    print('No skill or experience')"
   ]
  },
  {
   "cell_type": "code",
   "execution_count": 8,
   "metadata": {},
   "outputs": [
    {
     "name": "stdout",
     "output_type": "stream",
     "text": [
      "This applicant should know SQL\n"
     ]
    }
   ],
   "source": [
    "applicant_skill = 'SQL'\n",
    "job_skill = 'Python'\n",
    "years_experience = 3\n",
    "\n",
    "if job_skill == applicant_skill:\n",
    "    print('Skills Match')\n",
    "elif years_experience >= 5:\n",
    "    print('Enough Experience; No SQL')\n",
    "elif job_skill == 'Python':\n",
    "    print('This applicant should know SQL')\n",
    "else:\n",
    "    print('No skill or experience')"
   ]
  },
  {
   "cell_type": "code",
   "execution_count": 9,
   "metadata": {},
   "outputs": [],
   "source": [
    "# pass - placeholder; maybe you don't kow the value but you need it\n",
    "\n",
    "applicant_skill = 'SQL'\n",
    "job_skill = 'Python'\n",
    "years_experience = 3\n",
    "\n",
    "if job_skill == applicant_skill:\n",
    "    print('Skills Match')\n",
    "elif years_experience >= 5:\n",
    "    print('Enough Experience; No SQL')\n",
    "elif job_skill == 'Python':\n",
    "    pass\n",
    "else:\n",
    "    print('No skill or experience')"
   ]
  },
  {
   "cell_type": "markdown",
   "metadata": {},
   "source": [
    "### Practice"
   ]
  },
  {
   "cell_type": "markdown",
   "metadata": {},
   "source": [
    "Output someone's skill level based on the number of years someone has been using Python. Use the following criteria:\n",
    "\n",
    "Less than 2 years is 'Beginner'\n",
    "2 or more years is 'Intermediate'\n",
    "Set the variable python_experience to 3 and test this variable in the if statement."
   ]
  },
  {
   "cell_type": "code",
   "execution_count": 11,
   "metadata": {},
   "outputs": [
    {
     "name": "stdout",
     "output_type": "stream",
     "text": [
      "Intermediate\n"
     ]
    }
   ],
   "source": [
    "python_experience = 3\n",
    "\n",
    "if python_experience < 2:\n",
    "    print(\"Beginner\")\n",
    "else:\n",
    "    print(\"Intermediate\")"
   ]
  },
  {
   "cell_type": "markdown",
   "metadata": {},
   "source": [
    "Output someone's skill level based on the number of data science tools they know. Use the following criteria:\n",
    "\n",
    "0-1 tools is 'Beginner'\n",
    "2-4 tools is 'Intermediate'\n",
    "More than 4 tools is 'Advanced'\n",
    "The variable tools_known is set to 3 to test with the if statement."
   ]
  },
  {
   "cell_type": "code",
   "execution_count": 12,
   "metadata": {},
   "outputs": [
    {
     "name": "stdout",
     "output_type": "stream",
     "text": [
      "Intermediate\n"
     ]
    }
   ],
   "source": [
    "tools_known = 3\n",
    "\n",
    "if tools_known <= 1:\n",
    "    skill_level = 'Beginner'\n",
    "elif tools_known > 1 or tools_known <=4:\n",
    "    skill_level = 'Intermediate'\n",
    "else:\n",
    "    skill_level = 'Advanced'\n",
    "print(skill_level)"
   ]
  },
  {
   "cell_type": "markdown",
   "metadata": {},
   "source": [
    "Determine the job_title based on years of job experience and years of SQL experience. The variable job_experience is set to 4 and sql_experience is set to 2. Use the following criteria:\n",
    "\n",
    "Less than 2 years of job experience:\n",
    "\n",
    "0 SQL experience → \"Associate Analyst\" ,</br>\n",
    "1+ years of SQL experience → \"Junior Analyst\"</br>\n",
    "2 to 5 years of job experience:</br>\n",
    "\n",
    "0 SQL experience → \"Associate Analyst\"</br>\n",
    "1 year of SQL experience → \"Intermediate Analyst\"</br>\n",
    "2+ years of SQL experience → \"Senior Analyst\"</br>\n",
    "More than 5 years of job experience:</br>\n",
    "\n",
    "0–2 years of SQL experience → \"Data Analyst\"</br>\n",
    "3+ years of SQL experience → \"Lead Analyst\""
   ]
  },
  {
   "cell_type": "code",
   "execution_count": null,
   "metadata": {},
   "outputs": [
    {
     "name": "stdout",
     "output_type": "stream",
     "text": [
      "Senior Analyst\n"
     ]
    }
   ],
   "source": [
    "job_experience = 4\n",
    "sql_experience = 2\n",
    "\n",
    "if job_experience < 2:\n",
    "    if sql_experience == 0:\n",
    "        job_title = 'Associate Analyst'\n",
    "    elif sql_experience > 1: #here I could have used else\n",
    "        job_title = 'Junior Analyst'\n",
    "elif job_experience > 2 or job_experience < 5:\n",
    "    if sql_experience == 0:\n",
    "        job_title = 'Associate Analyst'\n",
    "    elif sql_experience == 1:\n",
    "        job_title = 'Intermediate Analyst'\n",
    "    else:\n",
    "        job_title = 'Senior Analyst'\n",
    "elif job_experience > 5:\n",
    "    if sql_experience <= 2:\n",
    "        job_title = 'Data Analyst'\n",
    "    else:\n",
    "        job_title = 'Lead Analyst'\n",
    "\n",
    "print(job_title)\n"
   ]
  },
  {
   "cell_type": "code",
   "execution_count": null,
   "metadata": {},
   "outputs": [],
   "source": []
  }
 ],
 "metadata": {
  "kernelspec": {
   "display_name": "base",
   "language": "python",
   "name": "python3"
  },
  "language_info": {
   "codemirror_mode": {
    "name": "ipython",
    "version": 3
   },
   "file_extension": ".py",
   "mimetype": "text/x-python",
   "name": "python",
   "nbconvert_exporter": "python",
   "pygments_lexer": "ipython3",
   "version": "3.11.3"
  }
 },
 "nbformat": 4,
 "nbformat_minor": 2
}
